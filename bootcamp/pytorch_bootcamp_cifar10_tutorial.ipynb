{
 "cells": [
  {
   "cell_type": "markdown",
   "metadata": {},
   "source": [
    "# PyTorch Bootcamp for CPSC 552\n",
    "\n",
    "<div style=\"text-align:right\">\n",
    "Sumner Magruder & Mamie Wang\n",
    "<br>\n",
    "Janurary 20th 2023\n",
    "</div>\n",
    "\n",
    "\n",
    "\n",
    "<span style=\"font-size:8pt\">\n",
    "    <i>\n",
    "        NOTE: the materials herein were adapted from PyTorch's official tutorial, which can be found \n",
    "        <a href=\"https://pytorch.org/tutorials/beginner/blitz/cifar10_tutorial.html\">here</a>.\n",
    "    </i> \n",
    "</span>\n",
    "\n",
    "\n",
    "## Bookkeeping\n",
    "- [Course Canvas](https://yale.instructure.com/courses/83743)\n",
    "    - find announcements, files, homework assignments here.\n",
    "- [Course GradeScope](https://www.gradescope.com/courses/486120)\n",
    "    - submit your homework and review feedback here.\n",
    "- Looking for last year's bootcamp? Follow this [link](https://yale.hosted.panopto.com/Panopto/Pages/Viewer.aspx?id=3bd5e0d8-6de4-4df1-b3ff-ae2d0145a4c8)\n",
    "- Looking to book a room? Use [25live](https://25live.collegenet.com/pro/yale)"
   ]
  },
  {
   "cell_type": "markdown",
   "metadata": {},
   "source": [
    "# Installation and Set up\n",
    "If you haven't set up PyTorch locally, you can do so following this [local installation guide](https://pytorch.org/get-started/locally/).\n",
    "\n",
    "\n",
    "Installing PyTorch locally is **not** necessary for the course. You can access PyTorch either through:\n",
    "\n",
    "- the class partition `cpsc452` on [Farnam](https://docs.ycrc.yale.edu/clusters/farnam/)\n",
    "\n",
    "- use of [Google Colab](https://colab.research.google.com)\n",
    "\n",
    "If you are new to the Yale High Performance Clusters (HPC) please consulte this [guide](https://docs.ycrc.yale.edu/clusters-at-yale/) \n",
    "<div style=\"display:none\">\n",
    "```bash\n",
    "[farnam ~]$ salloc ---reservation=cpsc452\n",
    "[cpsc452_netID@gpu ~]$  bash\n",
    "```\n",
    "```bash\n",
    "# sbatch.script\n",
    "@SBATCH -p cpsc452\n",
    "```\n",
    "</div>\n",
    "\n",
    "\n",
    "## Above and beyond (not required)\n",
    "\n",
    "### PyTorch extensions\n",
    "[PyLightning](https://www.pytorchlightning.ai) makes experiment tracking easier (metrics, visualzation, etc). \n",
    "Those who are interested in continuing in with PyTorch may find PyLighting a great tool in powering up their research.\n",
    "\n",
    "### MLOps (Machine Learning development OPS)\n",
    "These tools are useful for managing your ML experiements (think hyperparameter experiments, visualizations, saving key results, etc).\n",
    "They are **NOT** needed for the course. They are however of interest for students who may like to invest some time upfront for future projects \n",
    "(possibly even the course project).\n",
    "- [TensorBoard](https://www.tensorflow.org/tensorboard) ([pytorch tutorial](https://pytorch.org/tutorials/intermediate/tensorboard_tutorial.html))\n",
    "- [Comet](https://www.comet.com/site/)\n",
    "- [Weights & Biases](https://wandb.ai/)\n",
    "- [Neptune](https://neptune.ai)\n",
    "- [MLFlow](https://mlflow.org)\n",
    "\n",
    "If this is too much choice, here is a [short guide](https://neptune.ai/blog/weights-and-biases-alternatives) comparing some of these (Neptune's site, so take it with a grian of salt)."
   ]
  },
  {
   "cell_type": "code",
   "execution_count": 1,
   "metadata": {},
   "outputs": [],
   "source": [
    "%matplotlib inline"
   ]
  },
  {
   "cell_type": "markdown",
   "metadata": {},
   "source": [
    "# Training a Classifier"
   ]
  },
  {
   "cell_type": "markdown",
   "metadata": {},
   "source": [
    "## What about data?\n",
    "\n",
    "For this tutorial, we will use the CIFAR10 dataset.\n",
    "It has the classes: ‘airplane’, ‘automobile’, ‘bird’, ‘cat’, ‘deer’,\n",
    "‘dog’, ‘frog’, ‘horse’, ‘ship’, ‘truck’. The images in CIFAR-10 are of\n",
    "size 3x32x32, i.e. 3-channel color images of 32x32 pixels in size.\n",
    "\n",
    "![cifar10](https://pytorch.org/tutorials/_images/cifar10.png)\n",
    "\n",
    "\n",
    "## Training an image classifier\n",
    "\n",
    "We will do the following steps in order:\n",
    "\n",
    "1. Load and normalize the CIFAR10 training and test datasets using\n",
    "   ``torchvision``\n",
    "2. Define a Convolutional Neural Network\n",
    "3. Define a loss function\n",
    "4. Train the network on the training data\n",
    "5. Test the network on the test data\n",
    "\n",
    "### 1. Load and normalize CIFAR10\n",
    "\n",
    "Using ``torchvision``, it’s extremely easy to load CIFAR10.\n"
   ]
  },
  {
   "cell_type": "code",
   "execution_count": 1,
   "metadata": {},
   "outputs": [],
   "source": [
    "import torch\n",
    "import torchvision\n",
    "import torchvision.transforms as transforms"
   ]
  },
  {
   "cell_type": "markdown",
   "metadata": {},
   "source": [
    "The output of torchvision datasets are PILImage images of range [0, 1].\n",
    "We transform them to Tensors of normalized range [-1, 1].\n",
    "\n"
   ]
  },
  {
   "cell_type": "markdown",
   "metadata": {},
   "source": [
    "<div class=\"alert alert-info\"><h4>Note</h4><p>If running on Windows and you get a BrokenPipeError, try setting\n",
    "    the num_worker of torch.utils.data.DataLoader() to 0.</p></div>\n",
    "\n"
   ]
  },
  {
   "cell_type": "code",
   "execution_count": 2,
   "metadata": {},
   "outputs": [
    {
     "name": "stdout",
     "output_type": "stream",
     "text": [
      "Files already downloaded and verified\n",
      "Files already downloaded and verified\n"
     ]
    }
   ],
   "source": [
    "num_workers = 2\n",
    "batch_size = 4\n",
    "\n",
    "transform = transforms.Compose([\n",
    "    transforms.ToTensor(), \n",
    "    transforms.Normalize((0.5, 0.5, 0.5), (0.5, 0.5, 0.5))\n",
    "])\n",
    "\n",
    "trainset = torchvision.datasets.CIFAR10(\n",
    "    root='./data', train=True, download=True, transform=transform\n",
    ")\n",
    "\n",
    "trainloader = torch.utils.data.DataLoader(\n",
    "    trainset, batch_size=batch_size, shuffle=True, num_workers=num_workers\n",
    ")\n",
    "\n",
    "testset = torchvision.datasets.CIFAR10(\n",
    "    root='./data', train=False, download=True, transform=transform\n",
    ")\n",
    "\n",
    "testloader = torch.utils.data.DataLoader(\n",
    "    testset, batch_size=batch_size, shuffle=False, num_workers=num_workers\n",
    ")\n",
    "\n",
    "classes = (\n",
    "    'plane', 'car', 'bird', 'cat', 'deer', 'dog', 'frog', 'horse', 'ship', 'truck'\n",
    ")"
   ]
  },
  {
   "cell_type": "markdown",
   "metadata": {},
   "source": [
    "Let us show some of the training images, for fun.\n",
    "\n"
   ]
  },
  {
   "cell_type": "code",
   "execution_count": 3,
   "metadata": {},
   "outputs": [
    {
     "data": {
      "image/png": "[encoded data removed]",
      "text/plain": [
       "<Figure size 432x288 with 1 Axes>"
      ]
     },
     "metadata": {
      "needs_background": "light"
     },
     "output_type": "display_data"
    },
    {
     "name": "stdout",
     "output_type": "stream",
     "text": [
      "cat   bird  car   plane\n"
     ]
    }
   ],
   "source": [
    "import matplotlib.pyplot as plt\n",
    "import numpy as np\n",
    "\n",
    "# functions to show an image\n",
    "\n",
    "\n",
    "def imshow(img):\n",
    "    img = img / 2 + 0.5     # unnormalize\n",
    "    npimg = img.numpy()\n",
    "    plt.imshow(np.transpose(npimg, (1, 2, 0)))\n",
    "    plt.show()\n",
    "\n",
    "\n",
    "# get some random training images\n",
    "dataiter = iter(trainloader)\n",
    "images, labels = next(dataiter)\n",
    "\n",
    "# show images\n",
    "imshow(torchvision.utils.make_grid(images))\n",
    "# print labels\n",
    "print(' '.join(f'{classes[labels[j]]:5s}' for j in range(batch_size)))"
   ]
  },
  {
   "cell_type": "markdown",
   "metadata": {},
   "source": [
    "### 2. Define a Convolutional Neural Network\n",
    "Copy the neural network from the Neural Networks section before and modify it to\n",
    "take 3-channel images (instead of 1-channel images as it was defined).\n",
    "\n"
   ]
  },
  {
   "cell_type": "code",
   "execution_count": 4,
   "metadata": {},
   "outputs": [],
   "source": [
    "import torch.nn as nn\n",
    "import torch.nn.functional as F\n",
    "\n",
    "class Net(nn.Module):\n",
    "    def __init__(self, use_convolutions:bool=False):\n",
    "        super().__init__()\n",
    "        self.use_convolutions = use_convolutions\n",
    "\n",
    "        self.conv1 = nn.Conv2d(3, 6, 5)\n",
    "        self.pool = nn.MaxPool2d(2, 2)\n",
    "        self.conv2 = nn.Conv2d(6, 16, 5)\n",
    "\n",
    "        self.flat = nn.Flatten() \n",
    "        self.conv_matcher = nn.Linear(3 * 32 * 32, 16 * 5 * 5)\n",
    "\n",
    "        self.fc1 = nn.Linear(16 * 5 * 5, 120)\n",
    "        self.fc2 = nn.Linear(120, 84)\n",
    "        self.fc3 = nn.Linear(84, 10)\n",
    "\n",
    "    def forward(self, x):\n",
    "        if self.use_convolutions:\n",
    "            x = self.pool(F.relu(self.conv1(x)))\n",
    "            x = self.pool(F.relu(self.conv2(x)))\n",
    "            x = torch.flatten(x, 1) # flatten all dimensions except batch\n",
    "        \n",
    "        else:\n",
    "            x = self.flat(x)\n",
    "            x = self.conv_matcher(x)\n",
    "            x = F.relu(x)            \n",
    "        \n",
    "        x = F.relu(self.fc1(x))\n",
    "        x = F.relu(self.fc2(x))\n",
    "        x = self.fc3(x)\n",
    "        \n",
    "        return x\n",
    "\n",
    "net = Net(use_convolutions=False)"
   ]
  },
  {
   "cell_type": "markdown",
   "metadata": {},
   "source": [
    "### 3. Define a Loss function and optimizer\n",
    "Let's use a Classification Cross-Entropy loss and SGD with momentum.\n",
    "\n"
   ]
  },
  {
   "cell_type": "code",
   "execution_count": 6,
   "metadata": {},
   "outputs": [],
   "source": [
    "import torch.optim as optim\n",
    "from torch.optim.lr_scheduler import StepLR\n",
    "\n",
    "criterion = nn.CrossEntropyLoss()\n",
    "optimizer = optim.SGD(net.parameters(), lr=0.01, momentum=0.9)\n",
    "scheduler = StepLR(optimizer, step_size=10, gamma=0.1)"
   ]
  },
  {
   "cell_type": "markdown",
   "metadata": {},
   "source": [
    "### 4. Train the network\n",
    "\n",
    "This is when things start to get interesting.\n",
    "We simply have to loop over our data iterator, and feed the inputs to the\n",
    "network and optimize.\n",
    "\n"
   ]
  },
  {
   "cell_type": "code",
   "execution_count": 8,
   "metadata": {},
   "outputs": [
    {
     "name": "stdout",
     "output_type": "stream",
     "text": [
      "[1,  2000] loss: 2.056\n",
      "[1,  4000] loss: 2.051\n",
      "[1,  6000] loss: 2.082\n",
      "[1,  8000] loss: 2.109\n",
      "[1, 10000] loss: 2.129\n",
      "[1, 12000] loss: 2.132\n",
      "[2,  2000] loss: 2.158\n",
      "[2,  4000] loss: 2.169\n",
      "[2,  6000] loss: 2.230\n",
      "[2,  8000] loss: 2.234\n",
      "[2, 10000] loss: 2.176\n",
      "[2, 12000] loss: 2.188\n",
      "Finished Training\n"
     ]
    }
   ],
   "source": [
    "def train_step(model, data, optimizer=optimizer, criterion=criterion, scheduler=None, data_idx=None):\n",
    "    # get the inputs; data is a list of [inputs, labels]\n",
    "    inputs, labels = data\n",
    "\n",
    "    # zero the parameter gradients\n",
    "    optimizer.zero_grad()\n",
    "\n",
    "    # forward + backward + optimize + scheduler\n",
    "    outputs = model(inputs)\n",
    "    loss = criterion(outputs, labels)\n",
    "    loss.backward()\n",
    "    optimizer.step() \n",
    "        \n",
    "    return loss\n",
    "    \n",
    "def train_loop(\n",
    "    model, dataloader, epochs=2,  optimizer=optimizer, \n",
    "    criterion=criterion, scheduler=None, basename = './model'\n",
    "):\n",
    "    model.train() # set net to training mode\n",
    "    for epoch in range(epochs):  # loop over the dataset multiple times\n",
    "\n",
    "        running_loss = 0.0\n",
    "        for i, data in enumerate(dataloader, 0):\n",
    "            loss = train_step(model, data, optimizer, criterion, scheduler, data_idx=i)\n",
    "\n",
    "            # print statistics\n",
    "            running_loss += loss.item()\n",
    "            if i % 2000 == 1999:    # print every 2000 mini-batches\n",
    "                print(f'[{epoch + 1}, {i + 1:5d}] loss: {running_loss / 2000:.3f}')\n",
    "                running_loss = 0.0\n",
    "                \n",
    "        \n",
    "                \n",
    "        if scheduler is not None:\n",
    "            scheduler.step()\n",
    "        \n",
    "        model.eval()\n",
    "        # calc test set acc\n",
    "        \n",
    "        if test_acc improves, epoch % 2 == 0:\n",
    "            torch.save(net.state_dict(), f'./{basename}_{epoch}.model')\n",
    "            \n",
    "    print('Finished Training')\n",
    "\n",
    "train_loop(net, trainloader, epochs=2, scheduler=scheduler)"
   ]
  },
  {
   "cell_type": "markdown",
   "metadata": {},
   "source": [
    "Let's quickly save our trained model:\n",
    "\n"
   ]
  },
  {
   "cell_type": "code",
   "execution_count": 9,
   "metadata": {},
   "outputs": [],
   "source": [
    "PATH = './cifar_net.pth'\n",
    "torch.save(net.state_dict(), PATH)"
   ]
  },
  {
   "cell_type": "markdown",
   "metadata": {},
   "source": [
    "**NOTE:** it may be tempting to just use `torch.save(net, PATH)` but this has a serious drawback!\n",
    "> The disadvantage of this approach is that the serialized data is bound to the specific classes and the exact directory structure used when the model is saved.\n",
    "For more please consult the [saving model guide](https://pytorch.org/tutorials/beginner/saving_loading_models.html)\n",
    "\n",
    "See [here](https://pytorch.org/docs/stable/notes/serialization.html) for more details on saving PyTorch objects (tensors, modules, models)."
   ]
  },
  {
   "cell_type": "markdown",
   "metadata": {},
   "source": [
    "\n",
    "\n",
    "### 5. Test the network on the test data\n",
    "\n",
    "We have trained the network for 2 passes over the training dataset.\n",
    "But we need to check if the network has learnt anything at all.\n",
    "\n",
    "We will check this by predicting the class label that the neural network\n",
    "outputs, and checking it against the ground-truth. If the prediction is\n",
    "correct, we add the sample to the list of correct predictions.\n",
    "\n",
    "Okay, first step. Let us display an image from the test set to get familiar.\n",
    "\n"
   ]
  },
  {
   "cell_type": "code",
   "execution_count": 10,
   "metadata": {},
   "outputs": [
    {
     "data": {
      "image/png": "[encoded data removed]",
      "text/plain": [
       "<Figure size 432x288 with 1 Axes>"
      ]
     },
     "metadata": {
      "needs_background": "light"
     },
     "output_type": "display_data"
    },
    {
     "name": "stdout",
     "output_type": "stream",
     "text": [
      "GroundTruth:  cat   ship  ship  plane\n"
     ]
    }
   ],
   "source": [
    "dataiter = iter(testloader)\n",
    "images, labels = next(dataiter)\n",
    "\n",
    "# print images\n",
    "imshow(torchvision.utils.make_grid(images))\n",
    "print('GroundTruth: ', ' '.join(f'{classes[labels[j]]:5s}' for j in range(4)))"
   ]
  },
  {
   "cell_type": "markdown",
   "metadata": {},
   "source": [
    "Next, let's load back in our saved model (note: saving and re-loading the model\n",
    "wasn't necessary here, we only did it to illustrate how to do so):\n",
    "\n"
   ]
  },
  {
   "cell_type": "code",
   "execution_count": null,
   "metadata": {},
   "outputs": [],
   "source": [
    "net = Net(use_convolutions=False) # NOTE: make sure you have use_convolutions the same when you trained it!\n",
    "net.load_state_dict(torch.load(PATH))"
   ]
  },
  {
   "cell_type": "markdown",
   "metadata": {},
   "source": [
    "Okay, now let us see what the neural network thinks these examples above are:\n",
    "\n"
   ]
  },
  {
   "cell_type": "code",
   "execution_count": 11,
   "metadata": {},
   "outputs": [],
   "source": [
    "net.eval()\n",
    "outputs = net(images)"
   ]
  },
  {
   "cell_type": "markdown",
   "metadata": {},
   "source": [
    "The outputs are energies for the 10 classes.\n",
    "The higher the energy for a class, the more the network\n",
    "thinks that the image is of the particular class.\n",
    "So, let's get the index of the highest energy:\n",
    "\n"
   ]
  },
  {
   "cell_type": "code",
   "execution_count": 12,
   "metadata": {},
   "outputs": [
    {
     "name": "stdout",
     "output_type": "stream",
     "text": [
      "Predicted:  frog  ship  ship  ship \n"
     ]
    }
   ],
   "source": [
    "_, predicted = torch.max(outputs, 1)\n",
    "\n",
    "print('Predicted: ', ' '.join(f'{classes[predicted[j]]:5s}'\n",
    "                              for j in range(4)))"
   ]
  },
  {
   "cell_type": "markdown",
   "metadata": {},
   "source": [
    "The results seem pretty bad! It just predicts a single class for every image. \n",
    "This kind of behavior is called mode collapse. Let's see if we can improve our results by switching now to a convolutional neural network.\n",
    "If you don't know what a convolutional neural network is, **don't panic**. That is why you are taking the class! However, we can\n",
    "still use them to see why we might be interested in learning about them."
   ]
  },
  {
   "cell_type": "code",
   "execution_count": 13,
   "metadata": {},
   "outputs": [],
   "source": [
    "c_net = Net(use_convolutions=True)\n",
    "c_criterion = nn.CrossEntropyLoss()\n",
    "c_optimizer = optim.SGD(c_net.parameters(), lr=0.01, momentum=0.9)\n",
    "c_scheduler = StepLR(c_optimizer, step_size=10, gamma=0.1)"
   ]
  },
  {
   "cell_type": "code",
   "execution_count": 14,
   "metadata": {},
   "outputs": [
    {
     "name": "stderr",
     "output_type": "stream",
     "text": [
      "/Users/sumner/miniforge3/lib/python3.9/site-packages/torch/nn/functional.py:718: UserWarning: Named tensors and all their associated APIs are an experimental feature and subject to change. Please do not use them for anything important until they are released as stable. (Triggered internally at  /tmp/pip-req-build-accccgfm/c10/core/TensorImpl.h:1156.)\n",
      "  return torch.max_pool2d(input, kernel_size, stride, padding, dilation, ceil_mode)\n"
     ]
    },
    {
     "name": "stdout",
     "output_type": "stream",
     "text": [
      "[1,  2000] loss: 2.094\n",
      "[1,  4000] loss: 1.996\n",
      "[1,  6000] loss: 1.924\n",
      "[1,  8000] loss: 1.942\n",
      "[1, 10000] loss: 1.927\n",
      "[1, 12000] loss: 1.980\n",
      "[2,  2000] loss: 1.963\n",
      "[2,  4000] loss: 1.957\n",
      "[2,  6000] loss: 1.949\n",
      "[2,  8000] loss: 1.960\n",
      "[2, 10000] loss: 1.946\n",
      "[2, 12000] loss: 1.981\n",
      "Finished Training\n"
     ]
    }
   ],
   "source": [
    "train_loop(c_net, trainloader, 2, c_optimizer, c_criterion, c_scheduler)"
   ]
  },
  {
   "cell_type": "code",
   "execution_count": null,
   "metadata": {},
   "outputs": [],
   "source": [
    "PATH = './cifar_cnet.pth'\n",
    "torch.save(c_net.state_dict(), PATH)"
   ]
  },
  {
   "cell_type": "markdown",
   "metadata": {},
   "source": [
    "# Evaluation"
   ]
  },
  {
   "cell_type": "code",
   "execution_count": 15,
   "metadata": {},
   "outputs": [
    {
     "name": "stdout",
     "output_type": "stream",
     "text": [
      "Predicted:  dog   ship  ship  ship \n"
     ]
    }
   ],
   "source": [
    "c_net.eval()\n",
    "outputs = c_net(images)\n",
    "\n",
    "_, predicted = torch.max(outputs, 1)\n",
    "\n",
    "print('Predicted: ', ' '.join(f'{classes[predicted[j]]:5s}'\n",
    "                              for j in range(4)))"
   ]
  },
  {
   "cell_type": "markdown",
   "metadata": {},
   "source": [
    "The results seem pretty good.\n",
    "\n",
    "Let us look at how the network performs on the whole dataset.\n",
    "\n"
   ]
  },
  {
   "cell_type": "code",
   "execution_count": 16,
   "metadata": {},
   "outputs": [
    {
     "name": "stdout",
     "output_type": "stream",
     "text": [
      "Accuracy of the network on the 10000 test images: 27 %\n"
     ]
    }
   ],
   "source": [
    "correct = 0\n",
    "total = 0\n",
    "# since we're not training, we don't need to calculate the gradients for our outputs\n",
    "with torch.no_grad():\n",
    "    for data in testloader:\n",
    "        images, labels = data\n",
    "        # calculate outputs by running images through the network\n",
    "        outputs = c_net(images)\n",
    "        # the class with the highest energy is what we choose as prediction\n",
    "        _, predicted = torch.max(outputs.data, 1)\n",
    "        total += labels.size(0)\n",
    "        correct += (predicted == labels).sum().item()\n",
    "\n",
    "print(f'Accuracy of the network on the 10000 test images: {100 * correct // total} %')"
   ]
  },
  {
   "cell_type": "markdown",
   "metadata": {},
   "source": [
    "That looks way better than chance, which is 10% accuracy (randomly picking\n",
    "a class out of 10 classes).\n",
    "Seems like the network learnt something.\n",
    "\n",
    "Hmmm, what are the classes that performed well, and the classes that did\n",
    "not perform well:\n",
    "\n"
   ]
  },
  {
   "cell_type": "code",
   "execution_count": 17,
   "metadata": {},
   "outputs": [
    {
     "name": "stdout",
     "output_type": "stream",
     "text": [
      "Class eval for net:\n",
      "___________________\n",
      "Accuracy for class: plane is 0.0 %\n",
      "Accuracy for class: car   is 0.2 %\n",
      "Accuracy for class: bird  is 0.0 %\n",
      "Accuracy for class: cat   is 0.0 %\n",
      "Accuracy for class: deer  is 0.0 %\n",
      "Accuracy for class: dog   is 0.0 %\n",
      "Accuracy for class: frog  is 84.4 %\n",
      "Accuracy for class: horse is 1.6 %\n",
      "Accuracy for class: ship  is 85.5 %\n",
      "Accuracy for class: truck is 0.3 %\n",
      "Class eval for c_net:\n",
      "___________________\n",
      "Accuracy for class: plane is 0.6 %\n",
      "Accuracy for class: car   is 36.5 %\n",
      "Accuracy for class: bird  is 2.8 %\n",
      "Accuracy for class: cat   is 10.0 %\n",
      "Accuracy for class: deer  is 9.7 %\n",
      "Accuracy for class: dog   is 11.2 %\n",
      "Accuracy for class: frog  is 66.5 %\n",
      "Accuracy for class: horse is 52.2 %\n",
      "Accuracy for class: ship  is 59.0 %\n",
      "Accuracy for class: truck is 23.2 %\n"
     ]
    }
   ],
   "source": [
    "def eval_classes(model, dataloader):\n",
    "    # prepare to count predictions for each class\n",
    "    correct_pred = {classname: 0 for classname in classes}\n",
    "    total_pred = {classname: 0 for classname in classes}\n",
    "\n",
    "    # again no gradients needed\n",
    "    with torch.no_grad():\n",
    "        for data in dataloader:\n",
    "            images, labels = data\n",
    "            outputs = model(images)\n",
    "            _, predictions = torch.max(outputs, 1)\n",
    "            # collect the correct predictions for each class\n",
    "            for label, prediction in zip(labels, predictions):\n",
    "                if label == prediction:\n",
    "                    correct_pred[classes[label]] += 1\n",
    "                total_pred[classes[label]] += 1\n",
    "\n",
    "\n",
    "    # print accuracy for each class\n",
    "    for classname, correct_count in correct_pred.items():\n",
    "        accuracy = 100 * float(correct_count) / total_pred[classname]\n",
    "        print(f'Accuracy for class: {classname:5s} is {accuracy:.1f} %')\n",
    "    return correct_pred, total_pred\n",
    "\n",
    "print('Class eval for net:\\n___________________')\n",
    "cp, tp = eval_classes(net, testloader)\n",
    "# for classname, correct_count in cp.items():\n",
    "#         accuracy = 100 * float(correct_count) / tp[classname]\n",
    "#         print(f'Accuracy for class: {classname:5s} is {accuracy:.1f} %')\n",
    "\n",
    "print('Class eval for c_net:\\n___________________')\n",
    "cp, tp = eval_classes(c_net, testloader)\n",
    "# for classname, correct_count in cp.items():\n",
    "#         accuracy = 100 * float(correct_count) / tp[classname]\n",
    "#         print(f'Accuracy for class: {classname:5s} is {accuracy:.1f} %')"
   ]
  },
  {
   "cell_type": "markdown",
   "metadata": {},
   "source": [
    "Okay, so what next?\n",
    "\n",
    "How do we run these neural networks on the GPU?\n",
    "\n",
    "## Training on GPU\n",
    "Just like how you transfer a Tensor onto the GPU, you transfer the neural\n",
    "net onto the GPU.\n",
    "\n",
    "Let's first define our device as the first visible cuda device if we have\n",
    "CUDA available:\n",
    "\n"
   ]
  },
  {
   "cell_type": "code",
   "execution_count": 18,
   "metadata": {},
   "outputs": [
    {
     "name": "stdout",
     "output_type": "stream",
     "text": [
      "cpu\n"
     ]
    }
   ],
   "source": [
    "device = torch.device('cuda:0' if torch.cuda.is_available() else 'cpu')\n",
    "\n",
    "# Assuming that we are on a CUDA machine, this should print a CUDA device:\n",
    "\n",
    "print(device)"
   ]
  },
  {
   "cell_type": "markdown",
   "metadata": {},
   "source": [
    "The rest of this section assumes that ``device`` is a CUDA device.\n",
    "\n",
    "Then these methods will recursively go over all modules and convert their\n",
    "parameters and buffers to CUDA tensors:\n",
    "\n",
    ".. code:: python\n",
    "\n",
    "    net.to(device)\n",
    "\n",
    "\n",
    "Remember that you will have to send the inputs and targets at every step\n",
    "to the GPU too:\n",
    "\n",
    ".. code:: python\n",
    "\n",
    "        inputs, labels = data[0].to(device), data[1].to(device)\n",
    "\n",
    "Why don't I notice MASSIVE speedup compared to CPU? Because your network\n",
    "is really small.\n",
    "\n",
    "**Exercise:** Try increasing the width of your network (argument 2 of\n",
    "the first ``nn.Conv2d``, and argument 1 of the second ``nn.Conv2d`` –\n",
    "they need to be the same number), see what kind of speedup you get.\n",
    "\n",
    "**Goals achieved**:\n",
    "\n",
    "- Understanding PyTorch's Tensor library and neural networks at a high level.\n",
    "- Train a small neural network to classify images\n"
   ]
  },
  {
   "cell_type": "code",
   "execution_count": null,
   "metadata": {},
   "outputs": [],
   "source": [
    "del dataiter"
   ]
  }
 ],
 "metadata": {
  "kernelspec": {
   "display_name": "Python 3 (ipykernel)",
   "language": "python",
   "name": "python3"
  },
  "language_info": {
   "codemirror_mode": {
    "name": "ipython",
    "version": 3
   },
   "file_extension": ".py",
   "mimetype": "text/x-python",
   "name": "python",
   "nbconvert_exporter": "python",
   "pygments_lexer": "ipython3",
   "version": "3.9.6"
  },
  "toc": {
   "base_numbering": 1,
   "nav_menu": {},
   "number_sections": true,
   "sideBar": true,
   "skip_h1_title": false,
   "title_cell": "Table of Contents",
   "title_sidebar": "Contents",
   "toc_cell": false,
   "toc_position": {},
   "toc_section_display": true,
   "toc_window_display": false
  },
  "vscode": {
   "interpreter": {
    "hash": "cad5a6a26db6e70808c2f338ccbdec31a5ab4775923562a8d219d0fa5111327e"
   }
  }
 },
 "nbformat": 4,
 "nbformat_minor": 1
}

{
 "cells": [
  {
   "cell_type": "code",
   "execution_count": 1,
   "metadata": {},
   "outputs": [],
   "source": [
    "import numpy as np\n",
    "from sklearn.neighbors import KNeighborsClassifier\n",
    "from collections import Counter\n",
    "import matplotlib.pyplot as plt\n",
    "#logistic regression classifier\n",
    "from sklearn.linear_model import LogisticRegression\n",
    "from sklearn.svm import SVC\n",
    "from sklearn.model_selection import cross_val_score"
   ]
  },
  {
   "cell_type": "code",
   "execution_count": 2,
   "metadata": {},
   "outputs": [],
   "source": [
    "from ps1_functions import problem3_knn_classifier"
   ]
  },
  {
   "cell_type": "code",
   "execution_count": 3,
   "metadata": {},
   "outputs": [
    {
     "name": "stdout",
     "output_type": "stream",
     "text": [
      "[[15.26   14.84    0.871  ...  2.221   5.22    1.    ]\n",
      " [14.88   14.57    0.8811 ...  1.018   4.956   1.    ]\n",
      " [14.29   14.09    0.905  ...  2.699   4.825   1.    ]\n",
      " ...\n",
      " [13.2    13.66    0.8883 ...  8.315   5.056   3.    ]\n",
      " [11.84   13.21    0.8521 ...  3.598   5.044   3.    ]\n",
      " [12.3    13.34    0.8684 ...  5.637   5.063   3.    ]]\n"
     ]
    }
   ],
   "source": [
    "#load prob3_data_seed.dat\n",
    "data = np.genfromtxt('prob3_data_seed.dat')\n",
    "\n",
    "X = data[:,0:6]\n",
    "Y = data[:,7]\n",
    "print(data)"
   ]
  },
  {
   "cell_type": "code",
   "execution_count": 4,
   "metadata": {},
   "outputs": [],
   "source": [
    "#min-max normalization of data columns\n",
    "min = np.min(X, axis=0)\n",
    "max = np.max(X, axis=0)\n",
    "X = (X - min) / (max - min)"
   ]
  },
  {
   "attachments": {},
   "cell_type": "markdown",
   "metadata": {},
   "source": [
    "1; 5; 10; 15"
   ]
  },
  {
   "cell_type": "code",
   "execution_count": 5,
   "metadata": {},
   "outputs": [],
   "source": [
    "def cross_validation(X, Y, k, folds = 5):\n",
    "    \"\"\"\n",
    "    Leave one out cross validation for KNN classifier\n",
    "    :param X: input data\n",
    "    :param Y: class labels\n",
    "    :param k: number of nearest neighbors\n",
    "    :param folds: number of folds\n",
    "    :return: accuracy\n",
    "    \"\"\"\n",
    "    loss = list()\n",
    "    X_folds = np.array_split(X, folds)\n",
    "    Y_folds = np.array_split(Y, folds)\n",
    "\n",
    "    for i in range(folds):\n",
    "        hold_out = [j for j in range(X.shape[0]) if j != i]\n",
    "\n",
    "        #combine hold_out from X_folds and Y_folds\n",
    "        X_hold_out_train = np.concatenate(X_folds[:(i-1)] + X_folds[(i+1):], axis=0)\n",
    "        Y_hold_out_train = np.concatenate(Y_folds[:(i-1)] + Y_folds[(i+1):], axis=0)\n",
    "\n",
    "    # X_hold_out_train = [X_folds[j] for j in hold_out] \n",
    "        #X_hold_out_train = np.vstack(X_hold_out_train)\n",
    "        #Y_hold_out_train = np.vstack(Y_folds[j] for j in hold_out)\n",
    "        X_leave_out_test = X_folds[i]\n",
    "        Y_leave_out_test  = Y_folds[i].flatten()\n",
    "        \n",
    "        Y_predicted = problem3_knn_classifier(X_hold_out_train, Y_hold_out_train, X_leave_out_test, k).flatten()\n",
    "        \n",
    "        loss_i = np.mean(Y_predicted != Y_leave_out_test)\n",
    "        #print('Leave out: ', leave_out, 'Loss: ', loss_i)\n",
    "        loss.append(loss_i)\n",
    "\n",
    "    #average of loss\n",
    "    return np.mean(loss)"
   ]
  },
  {
   "cell_type": "code",
   "execution_count": 6,
   "metadata": {},
   "outputs": [
    {
     "data": {
      "image/png": "[encoded data removed]",
      "text/plain": [
       "<Figure size 640x480 with 1 Axes>"
      ]
     },
     "metadata": {},
     "output_type": "display_data"
    }
   ],
   "source": [
    "ks = [1, 5, 10, 15]\n",
    "cross_validation_loss = [cross_validation(X, Y, k, folds = 5) for k in ks]\n",
    "#\n",
    "leave_one_out_loss = [cross_validation(X, Y, k, folds = X.shape[0]) for k in ks]\n",
    "#plot leave_one_out_loss and cross_validation_loss on same plot\n",
    "plt.plot(ks, leave_one_out_loss, label='leave_one_out_loss')\n",
    "plt.plot(ks, cross_validation_loss, label='cross_validation_loss')\n",
    "plt.legend()\n",
    "plt.xlabel('k')\n",
    "plt.ylabel('Leave one out loss')\n",
    "plt.show()"
   ]
  },
  {
   "attachments": {},
   "cell_type": "markdown",
   "metadata": {},
   "source": [
    "Problem 2 c"
   ]
  },
  {
   "cell_type": "code",
   "execution_count": 7,
   "metadata": {},
   "outputs": [],
   "source": [
    "def cross_validation_general(X, Y, classifier, cv = 5):\n",
    "    \"\"\"\n",
    "    Leave one out cross validation for KNN classifier\n",
    "    :param X: input data\n",
    "    :param Y: class labels\n",
    "    :param k: number of nearest neighbors\n",
    "    :param cv: number of folds\n",
    "    :return: accuracy\n",
    "    \"\"\"\n",
    "    test_loss = list()\n",
    "    train_loss = list()\n",
    "\n",
    "    X_folds = np.array_split(X, cv)\n",
    "    Y_folds = np.array_split(Y, cv)\n",
    "\n",
    "    for i in range(cv):\n",
    "        hold_out = [j for j in range(X.shape[0]) if j != i]\n",
    "\n",
    "        #combine hold_out from X_folds and Y_folds\n",
    "        X_hold_out_train = np.concatenate(X_folds[:(i-1)] + X_folds[(i+1):], axis=0)\n",
    "        Y_hold_out_train = np.concatenate(Y_folds[:(i-1)] + Y_folds[(i+1):], axis=0)\n",
    "\n",
    "        X_leave_out_test = X_folds[i]\n",
    "        Y_leave_out_test  = Y_folds[i].flatten()\n",
    "        \n",
    "        classifier.fit(X_hold_out_train, Y_hold_out_train)\n",
    "        \n",
    "        Y_predicted_test = classifier.predict(X_leave_out_test).flatten()\n",
    "        Y_predicted_train = classifier.predict(X_hold_out_train).flatten()\n",
    "            \n",
    "        test_loss_i = np.mean(Y_predicted_test != Y_leave_out_test)\n",
    "        train_loss_i = np.mean(Y_predicted_train != Y_hold_out_train)\n",
    "\n",
    "        #print('Leave out: ', leave_out, 'Loss: ', loss_i)\n",
    "        test_loss.append(test_loss_i)\n",
    "        train_loss.append(train_loss_i)\n",
    "\n",
    "    #average of loss\n",
    "    test_loss = np.mean(test_loss)\n",
    "    train_loss = np.mean(train_loss)\n",
    "    #print('Test loss: ', test_loss, 'Train loss: ', train_loss)\n",
    "\n",
    "    return test_loss, train_loss"
   ]
  },
  {
   "cell_type": "code",
   "execution_count": 8,
   "metadata": {},
   "outputs": [
    {
     "data": {
      "text/plain": [
       "(0.4619047619047619, 0.07281746031746031)"
      ]
     },
     "execution_count": 8,
     "metadata": {},
     "output_type": "execute_result"
    }
   ],
   "source": [
    "cross_validation_general(X, Y, classifier = LogisticRegression())"
   ]
  },
  {
   "cell_type": "code",
   "execution_count": 10,
   "metadata": {},
   "outputs": [
    {
     "data": {
      "image/png": "[encoded data removed]",
      "text/plain": [
       "<Figure size 640x480 with 1 Axes>"
      ]
     },
     "metadata": {},
     "output_type": "display_data"
    }
   ],
   "source": [
    "#sequence from 0.01 to 0.1 with 10 steps\n",
    "Cs = np.linspace(0.01, 0.1, 10)\n",
    "\n",
    "cross_validation_loss = [cross_validation_general(X, Y, classifier = SVC(kernel=\"linear\", C = C_i)) for C_i in Cs]\n",
    "cross_validation_loss = np.vstack(cross_validation_loss)\n",
    "\n",
    "plt.plot(Cs, cross_validation_loss[:,0], label='test_loss')\n",
    "plt.plot(Cs, cross_validation_loss[:,1], label='train_loss')\n",
    "plt.legend()\n",
    "plt.xlabel('Cs')\n",
    "plt.ylabel('loss')\n",
    "plt.show()"
   ]
  },
  {
   "attachments": {},
   "cell_type": "markdown",
   "metadata": {},
   "source": [
    "Problem 3"
   ]
  },
  {
   "cell_type": "code",
   "execution_count": 12,
   "metadata": {},
   "outputs": [],
   "source": [
    "#sigmoid function\n",
    "def perceptron(x):\n",
    "    return np.where(x > 0, 1, 0)\n",
    "\n",
    "def sigmoid(x):\n",
    "    return 1 / (1 + np.exp(-x))\n",
    "    "
   ]
  },
  {
   "attachments": {},
   "cell_type": "markdown",
   "metadata": {},
   "source": [
    "translate "
   ]
  },
  {
   "cell_type": "code",
   "execution_count": 13,
   "metadata": {},
   "outputs": [],
   "source": [
    "W_1 = np.array([[0.6, 0.5, -0.6], [-0.7, 0.4, 0.8]])\n",
    "W_2 = np.array([[1, 1]])\n",
    "\n",
    "b_1 = np.array([-0.4, -0.5])\n",
    "b_2 = np.array([-0.5])"
   ]
  },
  {
   "cell_type": "code",
   "execution_count": 14,
   "metadata": {},
   "outputs": [],
   "source": [
    "def simple_neural_network(input, W_1, W_2, b_1, b_2, activation_function = sigmoid):\n",
    "    #print('input: ', input)\n",
    "    Z_1 = np.dot(W_1, input) + b_1\n",
    "    #print('Z_1: ', Z_1)\n",
    "    A_1 = activation_function(Z_1)\n",
    "    #print('A_1: ', A_1)\n",
    "\n",
    "    Z_2 = np.dot(W_2, A_1) + b_2\n",
    "    #print('Z_2: ', Z_2)\n",
    "\n",
    "    A_2 = activation_function(Z_2)\n",
    "    #print('A_2: ', A_2)\n",
    "    \n",
    "    return A_2"
   ]
  },
  {
   "cell_type": "code",
   "execution_count": 15,
   "metadata": {},
   "outputs": [],
   "source": [
    "#matrix\n",
    "X0 = np.array([0,0,0]).T\n",
    "X1 = np.array([1,0,0]).T\n",
    "X2 = np.array([0,1,0]).T\n",
    "X3 = np.array([0,0,1]).T\n",
    "X4 = np.array([1,1,0]).T\n",
    "X5 = np.array([1,0,1]).T\n",
    "X6 = np.array([0,1,1]).T\n",
    "X7 = np.array([1,1,1]).T\n",
    "\n",
    "Xs = [X0, X1, X2, X3, X4, X5, X6, X7]"
   ]
  },
  {
   "attachments": {},
   "cell_type": "markdown",
   "metadata": {},
   "source": [
    "output of perceptron "
   ]
  },
  {
   "attachments": {},
   "cell_type": "markdown",
   "metadata": {},
   "source": [
    "problem 4.3"
   ]
  },
  {
   "cell_type": "code",
   "execution_count": 16,
   "metadata": {},
   "outputs": [
    {
     "name": "stdout",
     "output_type": "stream",
     "text": [
      "X:  [0 0 0] output:  [0]\n",
      "X:  [1 0 0] output:  [1]\n",
      "X:  [0 1 0] output:  [1]\n",
      "X:  [0 0 1] output:  [1]\n",
      "X:  [1 1 0] output:  [1]\n",
      "X:  [1 0 1] output:  [0]\n",
      "X:  [0 1 1] output:  [1]\n",
      "X:  [1 1 1] output:  [1]\n"
     ]
    }
   ],
   "source": [
    "output  = [simple_neural_network(X_i, W_1 = W_1, W_2 = W_2, b_1 = b_1, b_2 = b_2, activation_function = perceptron) for X_i in Xs]\n",
    "for i in range(len(Xs)):\n",
    "    print('X: ', Xs[i], 'output: ', output[i])"
   ]
  },
  {
   "attachments": {},
   "cell_type": "markdown",
   "metadata": {},
   "source": [
    "output of sigmoid nn, problem 4.4"
   ]
  },
  {
   "cell_type": "code",
   "execution_count": 17,
   "metadata": {},
   "outputs": [
    {
     "name": "stdout",
     "output_type": "stream",
     "text": [
      "X:  [0 0 0] output:  [0.569265]\n",
      "X:  [1 0 0] output:  [0.56986717]\n",
      "X:  [0 1 0] output:  [0.62245933]\n",
      "X:  [0 0 1] output:  [0.58501229]\n",
      "X:  [1 1 0] output:  [0.61732588]\n",
      "X:  [1 0 1] output:  [0.57508402]\n",
      "X:  [0 1 1] output:  [0.63314399]\n",
      "X:  [1 1 1] output:  [0.62831133]\n"
     ]
    }
   ],
   "source": [
    "output  = [simple_neural_network(X_i, W_1 = W_1, W_2 = W_2, b_1 = b_1, b_2 = b_2, activation_function = sigmoid) for X_i in Xs]\n",
    "for i in range(len(Xs)):\n",
    "    print('X: ', Xs[i], 'output: ', output[i])"
   ]
  },
  {
   "attachments": {},
   "cell_type": "markdown",
   "metadata": {},
   "source": [
    "Problem 4.5"
   ]
  },
  {
   "attachments": {},
   "cell_type": "markdown",
   "metadata": {},
   "source": [
    "list two-digit binary numbers as two-dimensional binary vectors"
   ]
  },
  {
   "cell_type": "code",
   "execution_count": 18,
   "metadata": {},
   "outputs": [],
   "source": [
    "X0= np.array([0,0]).T\n",
    "X1= np.array([1,0]).T\n",
    "X2= np.array([0,1]).T\n",
    "X3= np.array([1,1]).T\n",
    "Xs = [X0, X1, X2, X3]"
   ]
  },
  {
   "attachments": {},
   "cell_type": "markdown",
   "metadata": {},
   "source": [
    "single digit addition as neural network"
   ]
  },
  {
   "cell_type": "code",
   "execution_count": 19,
   "metadata": {},
   "outputs": [],
   "source": [
    "def single_digit_binary_addition(input):\n",
    "    W_1 = np.array([[1,0,2], [0,1,2]]).T\n",
    "    W_2 = np.array([[0,0,1],[1, 1,-2]])\n",
    "\n",
    "    b_1 = np.array([0,0,-3])\n",
    "    b_2 = np.array([0,0])\n",
    "    return simple_neural_network(input, W_1 = W_1, W_2 = W_2, b_1 = b_1, b_2 = b_2, activation_function = perceptron)"
   ]
  },
  {
   "cell_type": "code",
   "execution_count": 24,
   "metadata": {},
   "outputs": [
    {
     "name": "stdout",
     "output_type": "stream",
     "text": [
      "0  +  0  =  [0 0]\n",
      "1  +  0  =  [0 1]\n",
      "0  +  1  =  [0 1]\n",
      "1  +  1  =  [1 0]\n"
     ]
    }
   ],
   "source": [
    "[print(X_i[0],\" + \", X_i[1],\" = \", single_digit_binary_addition(X_i)) for X_i in Xs];"
   ]
  },
  {
   "attachments": {},
   "cell_type": "markdown",
   "metadata": {},
   "source": [
    "concatenate `single_digit_binary_addition`multiple times"
   ]
  },
  {
   "cell_type": "code",
   "execution_count": 21,
   "metadata": {},
   "outputs": [],
   "source": [
    "def two_digit_binary_addition(binary_number_1, binary_number_2):\n",
    "    #first digit\n",
    "    N1 = single_digit_binary_addition(np.array([binary_number_1[1-0], binary_number_2[1-0]]))\n",
    "    D0 = N1[1-0]\n",
    "    #second digit\n",
    "    N2 = single_digit_binary_addition(np.array([binary_number_1[1-1], binary_number_2[1-1]]))\n",
    "    N3 = single_digit_binary_addition(np.array([N2[1-0], N1[1-1]]))\n",
    "    D1 = N3[1-0]\n",
    "    #third digit\n",
    "    N4 = single_digit_binary_addition(np.array([N2[1-1], N3[1-1]]))\n",
    "    D2 = N4[1-0]\n",
    "\n",
    "    sum_result = np.array([D2, D1, D0])\n",
    "    return sum_result"
   ]
  },
  {
   "cell_type": "code",
   "execution_count": 23,
   "metadata": {},
   "outputs": [
    {
     "name": "stdout",
     "output_type": "stream",
     "text": [
      "[0 0]  +  [0 0]  =  [0 0 0]\n",
      "[1 0]  +  [0 0]  =  [0 1 0]\n",
      "[0 1]  +  [0 0]  =  [0 0 1]\n",
      "[1 1]  +  [0 0]  =  [0 1 1]\n",
      "[0 0]  +  [1 0]  =  [0 1 0]\n",
      "[1 0]  +  [1 0]  =  [1 0 0]\n",
      "[0 1]  +  [1 0]  =  [0 1 1]\n",
      "[1 1]  +  [1 0]  =  [1 0 1]\n",
      "[0 0]  +  [0 1]  =  [0 0 1]\n",
      "[1 0]  +  [0 1]  =  [0 1 1]\n",
      "[0 1]  +  [0 1]  =  [0 1 0]\n",
      "[1 1]  +  [0 1]  =  [1 0 0]\n",
      "[0 0]  +  [1 1]  =  [0 1 1]\n",
      "[1 0]  +  [1 1]  =  [1 0 1]\n",
      "[0 1]  +  [1 1]  =  [1 0 0]\n",
      "[1 1]  +  [1 1]  =  [1 1 0]\n"
     ]
    }
   ],
   "source": [
    "[[print(binary_number_1,\" + \", binary_number_2,\" = \", two_digit_binary_addition(binary_number_1, binary_number_2)) for binary_number_1 in Xs] for binary_number_2 in Xs];"
   ]
  },
  {
   "cell_type": "code",
   "execution_count": null,
   "metadata": {},
   "outputs": [],
   "source": [
    "#fibonacci sequence\n",
    "def fibonacci_sequence(n):\n",
    "    #first two numbers\n",
    "    a = 0\n",
    "    b = 1\n",
    "    #print(a)\n",
    "    #print(b)\n",
    "    #print(a+b)\n",
    "    for i in range(n-2):\n",
    "        c = a + b\n",
    "        #print(c)\n",
    "        a = b\n",
    "        b = c\n",
    "    return c\n",
    "\n",
    "        "
   ]
  },
  {
   "cell_type": "code",
   "execution_count": null,
   "metadata": {},
   "outputs": [],
   "source": [
    "import stats\n",
    "#power analysis for linear mixed model\n",
    "def power_analysis_linear_mixed_model(n = 86, k = 3, sigma=-.18, sigma_e = .07, alpha = 0.01):\n",
    "    #n = number of subjects\n",
    "    #k = number of predictors\n",
    "    #sigma = effect size\n",
    "    #sigma_e = error variance\n",
    "    #alpha = significance level\n",
    "    #beta = 1 - alpha\n",
    "    beta = 1 - alpha\n",
    "    #F = F-statistic\n",
    "    F = (sigma**2 / sigma_e**2) * ((n - 1) / k)\n",
    "    #F_alpha = critical value of F\n",
    "    F_alpha = stats.f.ppf(beta, k, n - k - 1)\n",
    "    #power = 1 - beta\n",
    "    power = 1 - stats.f.cdf(F, k, n - k - 1)\n",
    "    return power\n",
    "\n"
   ]
  },
  {
   "cell_type": "code",
   "execution_count": null,
   "metadata": {},
   "outputs": [],
   "source": []
  }
 ],
 "metadata": {
  "kernelspec": {
   "display_name": "deep_learning_2023",
   "language": "python",
   "name": "python3"
  },
  "language_info": {
   "codemirror_mode": {
    "name": "ipython",
    "version": 3
   },
   "file_extension": ".py",
   "mimetype": "text/x-python",
   "name": "python",
   "nbconvert_exporter": "python",
   "pygments_lexer": "ipython3",
   "version": "3.9.16 (main, Jan 11 2023, 10:02:19) \n[Clang 14.0.6 ]"
  },
  "orig_nbformat": 4,
  "vscode": {
   "interpreter": {
    "hash": "48405d14813ffd37f8be7251e92423799cab262faebc8080a71f67eaa8a9635a"
   }
  }
 },
 "nbformat": 4,
 "nbformat_minor": 2
}

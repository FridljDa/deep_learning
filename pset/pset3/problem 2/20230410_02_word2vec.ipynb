{
 "cells": [
  {
   "attachments": {},
   "cell_type": "markdown",
   "metadata": {},
   "source": [
    "# Problem 2 Word2Vec & Seq2Seq Models\n",
    "---------"
   ]
  },
  {
   "attachments": {},
   "cell_type": "markdown",
   "metadata": {},
   "source": [
    "## Setup"
   ]
  },
  {
   "cell_type": "code",
   "execution_count": 53,
   "metadata": {},
   "outputs": [
    {
     "name": "stderr",
     "output_type": "stream",
     "text": [
      "Global seed set to 3\n"
     ]
    },
    {
     "data": {
      "text/plain": [
       "3"
      ]
     },
     "execution_count": 53,
     "metadata": {},
     "output_type": "execute_result"
    }
   ],
   "source": [
    "import os, sys, tqdm, json, pickle, random, warnings\n",
    "from typing import List, Optional\n",
    "\n",
    "import numpy as np, pandas as pd\n",
    "\n",
    "import matplotlib as mpl, matplotlib.pyplot as plt, seaborn as sns\n",
    "\n",
    "import torch.nn.functional as F\n",
    "\n",
    "import torch, torch.nn as nn, torch.optim as optim\n",
    "import pytorch_lightning as pl\n",
    "from torch.utils import data\n",
    "\n",
    "from gensim.models import Word2Vec, Phrases\n",
    "from gensim.test.utils import common_texts\n",
    "import gensim, gensim.downloader as gensim_api\n",
    "from gensim import corpora\n",
    "\n",
    "from gensim.parsing.preprocessing import remove_stopwords, preprocess_documents\n",
    "from gensim.utils import simple_preprocess\n",
    "\n",
    "pl.seed_everything(3)"
   ]
  },
  {
   "attachments": {},
   "cell_type": "markdown",
   "metadata": {},
   "source": [
    "### Global Variables"
   ]
  },
  {
   "attachments": {},
   "cell_type": "markdown",
   "metadata": {},
   "source": [
    "**NOTE**: you can find other `gensim` datasets [here](https://github.com/RaRe-Technologies/gensim-data#datasets)"
   ]
  },
  {
   "cell_type": "code",
   "execution_count": 54,
   "metadata": {},
   "outputs": [
    {
     "data": {
      "text/plain": [
       "'/Users/default/Google Drive/currentDocumants/studies/Master/6.Semester/deep_learning/pset/pset3/problem 2'"
      ]
     },
     "execution_count": 54,
     "metadata": {},
     "output_type": "execute_result"
    }
   ],
   "source": [
    "SAVE_DIR = os.path.abspath('.')\n",
    "\n",
    "W2V_FILE = os.path.join(SAVE_DIR, 'word2vec.pth')\n",
    "\n",
    "CORPUS = 'text8'# 'glove-wiki-gigaword-200'\n",
    "\n",
    "TXT_FILE = os.path.join(SAVE_DIR, f'{CORPUS}.pkl')\n",
    "\n",
    "OVERWRITE = False\n",
    "\n",
    "VEC_SIZE = 50 #10\n",
    "\n",
    "#DEVICE = torch.device('cuda' if torch.cuda.is_available() else 'cpu')\n",
    "DEVICE = 'cpu'\n",
    "\n",
    "SAVE_DIR"
   ]
  },
  {
   "attachments": {},
   "cell_type": "markdown",
   "metadata": {},
   "source": [
    "## Part 1"
   ]
  },
  {
   "attachments": {},
   "cell_type": "markdown",
   "metadata": {},
   "source": [
    "### Fetch you text corpus"
   ]
  },
  {
   "attachments": {},
   "cell_type": "markdown",
   "metadata": {},
   "source": [
    "**TODO**: generate your own word-vector embedding using a text corpus of _your_ choice of at least **500** words. You may use `gensim`'s corpora.\n",
    "\n",
    "Feel free to play with hyperparmaters in the notebook such as context size and embedding size."
   ]
  },
  {
   "cell_type": "code",
   "execution_count": 55,
   "metadata": {},
   "outputs": [],
   "source": [
    "corpus = gensim_api.load(CORPUS)"
   ]
  },
  {
   "cell_type": "code",
   "execution_count": 56,
   "metadata": {},
   "outputs": [
    {
     "data": {
      "text/plain": [
       "<text8.Dataset at 0x7f8fdaafa200>"
      ]
     },
     "execution_count": 56,
     "metadata": {},
     "output_type": "execute_result"
    }
   ],
   "source": [
    "does_corpus_exist = os.path.isfile(TXT_FILE)\n",
    "\n",
    "if not does_corpus_exist or OVERWRITE:\n",
    "    corpus = gensim_api.load(CORPUS)\n",
    "    with open(TXT_FILE, 'wb') as f:\n",
    "        pickle.dump(corpus, f)\n",
    "\n",
    "else:\n",
    "    with open(TXT_FILE, 'rb') as f:\n",
    "         corpus = pickle.load(f)\n",
    "\n",
    "corpus"
   ]
  },
  {
   "attachments": {},
   "cell_type": "markdown",
   "metadata": {},
   "source": [
    "### Train your Word2Vec Model"
   ]
  },
  {
   "attachments": {},
   "cell_type": "markdown",
   "metadata": {},
   "source": [
    "**NOTE**: you are free to create your own Word2Vec model. You are welcome to use `gensim`. However for the pset you must at least _train_ a Word2Vec model!"
   ]
  },
  {
   "cell_type": "code",
   "execution_count": 57,
   "metadata": {},
   "outputs": [
    {
     "data": {
      "text/plain": [
       "'/Users/default/Google Drive/currentDocumants/studies/Master/6.Semester/deep_learning/pset/pset3/problem 2/word2vec.pth'"
      ]
     },
     "execution_count": 57,
     "metadata": {},
     "output_type": "execute_result"
    }
   ],
   "source": [
    "W2V_FILE"
   ]
  },
  {
   "cell_type": "code",
   "execution_count": 58,
   "metadata": {},
   "outputs": [],
   "source": [
    "does_model_exist = os.path.isfile(W2V_FILE)\n",
    "\n",
    "if not does_model_exist or OVERWRITE:\n",
    "    w2v = Word2Vec(\n",
    "        # NOTE: you can use either a list of strings (sentences)\n",
    "        # or provide a corpus_file\n",
    "        corpus, \n",
    "        \n",
    "        # Dimensionality of the word vectors.\n",
    "        vector_size=VEC_SIZE, \n",
    "        #size=VEC_SIZE, \n",
    "\n",
    "        # Maximum distance between the current and predicted word within a sentence.\n",
    "        window=5, \n",
    "\n",
    "        # Ignores all words with total frequency lower than this.\n",
    "        min_count=1,\n",
    "\n",
    "        # Training algorithm: 1 for skip-gram; otherwise CBOW.\n",
    "        sg = 1,\n",
    "        \n",
    "        # Use these many worker threads to train the model (=faster training \n",
    "        # with multicore machines).\n",
    "        workers=32,\n",
    "\n",
    "        # If 0, use the sum of the context word vectors. If 1, use the mean, \n",
    "        # only applies when cbow is used.\n",
    "        cbow_mean = 1,\n",
    "\n",
    "        # Number of iterations (epochs) over the corpus. (Formerly: iter)\n",
    "        epochs=10#100\n",
    "    )\n",
    "\n",
    "    w2v.add_null_word()\n",
    "\n",
    "    w2v.save(W2V_FILE)\n",
    "\n",
    "else:\n",
    "\n",
    "     w2v = Word2Vec.load(W2V_FILE)"
   ]
  },
  {
   "cell_type": "code",
   "execution_count": 59,
   "metadata": {},
   "outputs": [],
   "source": [
    "def vec_math(model, *args, return_str_description:bool=False):    \n",
    "    desc = ''\n",
    "    func = np.add  \n",
    "    # NOTE: vector_size  \n",
    "    vect = None\n",
    "    \n",
    "    for arg in args:\n",
    "        if arg == '+':\n",
    "            desc += ' + '\n",
    "            func = np.add\n",
    "        elif arg == '-':\n",
    "            desc += ' - '\n",
    "            func = np.subtract\n",
    "        elif arg == '/':\n",
    "            desc += ' / '\n",
    "            func = np.divide\n",
    "        elif arg == '*':\n",
    "            desc += ' * '\n",
    "            func = np.multiply\n",
    "        else:\n",
    "            desc += arg\n",
    "            curr = model.wv[arg]\n",
    "            if vect is None:\n",
    "                vect = curr.copy()\n",
    "            else:\n",
    "                vect = func(vect, curr)\n",
    "\n",
    "    if return_str_description:\n",
    "        return desc, vect\n",
    "\n",
    "    return vect"
   ]
  },
  {
   "attachments": {},
   "cell_type": "markdown",
   "metadata": {},
   "source": [
    "#### Explore results"
   ]
  },
  {
   "attachments": {},
   "cell_type": "markdown",
   "metadata": {},
   "source": [
    "NOTE: here my model had \n",
    "\n",
    "$$\n",
    "woman + man - king = girl\n",
    "$$\n",
    "\n",
    "and\n",
    "\n",
    "$$\n",
    "news + truth - lies = blogging\n",
    "$$ "
   ]
  },
  {
   "cell_type": "code",
   "execution_count": 60,
   "metadata": {},
   "outputs": [
    {
     "data": {
      "text/plain": [
       "('dumb', 0.7257739901542664)"
      ]
     },
     "execution_count": 60,
     "metadata": {},
     "output_type": "execute_result"
    }
   ],
   "source": [
    "# woman + man - king = ?\n",
    "gsm_res = w2v.wv.most_similar(positive=['woman','man'], negative=['king'])[0]\n",
    "gsm_res"
   ]
  },
  {
   "cell_type": "code",
   "execution_count": 61,
   "metadata": {},
   "outputs": [
    {
     "data": {
      "text/plain": [
       "('publicize', 0.7525402903556824)"
      ]
     },
     "execution_count": 61,
     "metadata": {},
     "output_type": "execute_result"
    }
   ],
   "source": [
    "# news + truth - lies = ?\n",
    "gsm_res = w2v.wv.most_similar(positive=['news','truth'], negative=['lies'])[0]\n",
    "gsm_res"
   ]
  },
  {
   "cell_type": "code",
   "execution_count": 62,
   "metadata": {},
   "outputs": [
    {
     "data": {
      "text/plain": [
       "[('extends', 0.8267737030982971),\n",
       " ('occupies', 0.8245770335197449),\n",
       " ('lying', 0.8212238550186157),\n",
       " ('situated', 0.8177280426025391),\n",
       " ('reaches', 0.8083112835884094),\n",
       " ('encircles', 0.766158938407898),\n",
       " ('traverses', 0.7654803395271301),\n",
       " ('sits', 0.762751579284668),\n",
       " ('overlooks', 0.7599471211433411),\n",
       " ('encloses', 0.7521087527275085)]"
      ]
     },
     "execution_count": 62,
     "metadata": {},
     "output_type": "execute_result"
    }
   ],
   "source": [
    "w2v.wv.most_similar(positive=['lies'], topn = 10)"
   ]
  },
  {
   "attachments": {},
   "cell_type": "markdown",
   "metadata": {},
   "source": [
    "#### Visualize"
   ]
  },
  {
   "attachments": {},
   "cell_type": "markdown",
   "metadata": {},
   "source": [
    "**TODO**: Plot these word embeddings (all words) by adjusting the code in the notebook.\n",
    "\n",
    "You are able to adjust the plotting parameters to suit your needs for making a compelling visualization. \n",
    "Discuss what you notice in your embeddings. For example, using the introduction to Charles Darwin's \"_On the Origin of Species_\" \n",
    "as a text file, we obtain the embeddings in Figure 2"
   ]
  },
  {
   "cell_type": "code",
   "execution_count": 63,
   "metadata": {},
   "outputs": [
    {
     "data": {
      "text/plain": [
       "<text8.Dataset at 0x7f8fdaafa200>"
      ]
     },
     "execution_count": 63,
     "metadata": {},
     "output_type": "execute_result"
    }
   ],
   "source": [
    "corpus"
   ]
  },
  {
   "cell_type": "code",
   "execution_count": 64,
   "metadata": {},
   "outputs": [],
   "source": [
    "#extract words from corpus\n",
    "all_words_from_corpus = []\n",
    "for word in corpus:\n",
    "    all_words_from_corpus.append(word)\n",
    "\n",
    "#words_from_corpus = np.array(words_from_corpus).flatten()\n",
    "all_words_from_corpus = np.concatenate(all_words_from_corpus)"
   ]
  },
  {
   "cell_type": "code",
   "execution_count": 65,
   "metadata": {},
   "outputs": [],
   "source": [
    "#this does not terminate\n",
    "\n",
    "#fig = plt.figure(figsize=(20, 8))\n",
    "#lim_scale = 2\n",
    "\n",
    "#ax = fig.add_subplot(1, 1, 1)\n",
    "\n",
    "# Get the 50 most frequent words in the vocabulary\n",
    "#words = [w for w, _ in w2v.wv.most_similar(positive=['king'], topn=20)]\n",
    "\n",
    "#vecs = w2v.wv[all_words_from_corpus]\n",
    "\n",
    "#min_vals = np.min(vecs, axis=0)\n",
    "#max_vals = np.max(vecs, axis=0)  \n",
    "\n",
    "#ax.set_xlim(min_vals[0] * lim_scale, max_vals[0] * lim_scale)\n",
    "#ax.set_ylim(min_vals[1] * lim_scale, max_vals[1] * lim_scale)\n",
    "\n",
    "#for j, vec in enumerate(vecs):\n",
    "#    word = all_words_from_corpus[j]\n",
    "\n",
    "    #print(vec)\n",
    "#    plt.scatter(vec[0], vec[1])\n",
    "#    plt.annotate(\n",
    "#        word, xy=(0, 0),  xytext=(vec[0], vec[1]), \n",
    "#        arrowprops=dict(arrowstyle=\"<-\"),\n",
    "#        fontsize=8  \n",
    "#    )\n",
    "\n",
    "#plt.show()"
   ]
  },
  {
   "attachments": {},
   "cell_type": "markdown",
   "metadata": {},
   "source": [
    "**TODO**: Since this is too crowded to interpret, modify the code in the notebook to randomly select words to plot as long as there is space as shown in Figure 3"
   ]
  },
  {
   "cell_type": "code",
   "execution_count": 66,
   "metadata": {},
   "outputs": [],
   "source": [
    "words_sample = np.random.choice(all_words_from_corpus, size=20, replace=False)"
   ]
  },
  {
   "cell_type": "code",
   "execution_count": 67,
   "metadata": {},
   "outputs": [
    {
     "data": {
      "image/png": "[encoded data removed]",
      "text/plain": [
       "<Figure size 2000x800 with 1 Axes>"
      ]
     },
     "metadata": {},
     "output_type": "display_data"
    }
   ],
   "source": [
    "fig = plt.figure(figsize=(20, 8))\n",
    "lim_scale = 2\n",
    "\n",
    "ax = fig.add_subplot(1, 1, 1)\n",
    "\n",
    "vecs = w2v.wv[words_sample]\n",
    "\n",
    "min_vals = np.min(vecs, axis=0)\n",
    "max_vals = np.max(vecs, axis=0)  \n",
    "\n",
    "ax.set_xlim(min_vals[0] * lim_scale, max_vals[0] * lim_scale)\n",
    "ax.set_ylim(min_vals[1] * lim_scale, max_vals[1] * lim_scale)\n",
    "\n",
    "for j, vec in enumerate(vecs):\n",
    "    word = words_sample[j]\n",
    "\n",
    "    #print(vec)\n",
    "    plt.scatter(vec[0], vec[40])\n",
    "    plt.annotate(\n",
    "        word, xy=(0, 0),  xytext=(vec[0], vec[1]), \n",
    "        arrowprops=dict(arrowstyle=\"<-\"),\n",
    "        fontsize=8  # Adjust the font size for readability\n",
    "    )\n",
    "\n",
    "plt.show()"
   ]
  },
  {
   "attachments": {},
   "cell_type": "markdown",
   "metadata": {},
   "source": [
    "subset, todo delete"
   ]
  },
  {
   "cell_type": "code",
   "execution_count": 68,
   "metadata": {},
   "outputs": [
    {
     "data": {
      "image/png": "[encoded data removed]",
      "text/plain": [
       "<Figure size 2000x800 with 2 Axes>"
      ]
     },
     "metadata": {},
     "output_type": "display_data"
    }
   ],
   "source": [
    "fig = plt.figure(figsize=(20, 8))\n",
    "lim_scale = 2\n",
    "\n",
    "word_groups = [\n",
    "    'computer,news,truth,lies,big,news + truth - lies'.split(','), \n",
    "    'man,king,woman,queen,woman + man - king'.split(','), \n",
    "]\n",
    "\n",
    "for i, words in enumerate(word_groups):\n",
    "    ax = fig.add_subplot(1, 2, i+1)\n",
    "    single_words = list(filter(lambda e: e.isalpha(), words))\n",
    "    domath_words = list(filter(lambda e: not e.isalpha(), words))\n",
    "\n",
    "    vecs = w2v.wv[single_words]\n",
    "    for w in domath_words:        \n",
    "        v = vec_math(w2v, *w.split())\n",
    "        vecs = np.vstack((vecs, v))      \n",
    "\n",
    "    min_vals = np.min(vecs, axis=0)\n",
    "    max_vals = np.max(vecs, axis=0)  \n",
    "\n",
    "    ax.set_xlim(min_vals[0] * lim_scale, max_vals[0] * lim_scale)\n",
    "    ax.set_ylim(min_vals[1] * lim_scale, max_vals[1] * lim_scale)\n",
    "\n",
    "    for j, vec in enumerate(vecs):\n",
    "        word = words[j]\n",
    "\n",
    "        plt.scatter(vec[0], vec[1])\n",
    "        plt.annotate(\n",
    "            word, xy=(0, 0),  xytext=(vec[0], vec[1]), \n",
    "            arrowprops=dict(arrowstyle=\"<-\")\n",
    "        )"
   ]
  },
  {
   "attachments": {},
   "cell_type": "markdown",
   "metadata": {},
   "source": [
    "## Part 2"
   ]
  },
  {
   "attachments": {},
   "cell_type": "markdown",
   "metadata": {},
   "source": [
    "### Dataset"
   ]
  },
  {
   "attachments": {},
   "cell_type": "markdown",
   "metadata": {},
   "source": [
    "dl_310_2"
   ]
  },
  {
   "cell_type": "code",
   "execution_count": 69,
   "metadata": {},
   "outputs": [
    {
     "name": "stderr",
     "output_type": "stream",
     "text": [
      "Global seed set to 3\n"
     ]
    },
    {
     "data": {
      "text/plain": [
       "3"
      ]
     },
     "execution_count": 69,
     "metadata": {},
     "output_type": "execute_result"
    }
   ],
   "source": [
    "import os, sys, tqdm, json, pickle, random, warnings\n",
    "from typing import List, Optional\n",
    "\n",
    "import numpy as np, pandas as pd\n",
    "\n",
    "import matplotlib as mpl, matplotlib.pyplot as plt, seaborn as sns\n",
    "\n",
    "import torch, torch.nn as nn, torch.optim as optim\n",
    "import pytorch_lightning as pl\n",
    "from torch.utils import data\n",
    "\n",
    "from gensim.models import Word2Vec, Phrases\n",
    "from gensim.test.utils import common_texts\n",
    "import gensim, gensim.downloader as gensim_api\n",
    "from gensim import corpora\n",
    "\n",
    "from gensim.parsing.preprocessing import remove_stopwords, preprocess_documents\n",
    "from gensim.utils import simple_preprocess\n",
    "\n",
    "pl.seed_everything(3)"
   ]
  },
  {
   "attachments": {},
   "cell_type": "markdown",
   "metadata": {},
   "source": [
    "Whether or not you used `gensim` for training the `Word2Vec` model you will be using PyTorch Lightning for the `Seq2Seq` model. To make this easier on you, you will need to create a `data.Dataset` object which contains, at the very least, `__getitem__` and `__len__` methods to yield items during training. Below is an example which converts a `gensim` corpus paired batches of the first 300 words per doc."
   ]
  },
  {
   "cell_type": "code",
   "execution_count": 70,
   "metadata": {},
   "outputs": [],
   "source": [
    "class Seq2SeqTextDataset(data.Dataset):\n",
    "    def __init__(self, corpus, keyed_vecs, reverse_target:bool=False):        \n",
    "        self.corpus = corpus\n",
    "        self.keyed_vecs = keyed_vecs\n",
    "        \n",
    "        docs = self.docs_from_corpus(corpus)\n",
    "        self.docs = docs\n",
    "        self.data = docs\n",
    "\n",
    "        corpora_dct = corpora.Dictionary(docs)\n",
    "        self.corpora_dct = corpora_dct\n",
    "\n",
    "        bows = self.bows_from_docs(docs, corpora_dct)\n",
    "        self.bows = bows\n",
    "        \n",
    "        self.reverse_target = reverse_target\n",
    "\n",
    "    def docs_from_corpus(self, corpus):\n",
    "        docs = [\n",
    "            #simple_preprocess(remove_stopwords(' '.join(doc)))[:300] #will have to reduce this to 5\n",
    "            simple_preprocess(remove_stopwords(' '.join(doc)))[:3]\n",
    "            for doc in corpus\n",
    "        ]\n",
    "        return docs\n",
    "        \n",
    "    def bows_from_docs(self, docs, dct):\n",
    "        return [dct.doc2bow(doc) for doc in docs]\n",
    "\n",
    "\n",
    "    def __len__(self):        \n",
    "        return int(len(self.docs))\n",
    "\n",
    "    def __getitem__(self, idx):\n",
    "        doc = self.docs[idx]\n",
    "\n",
    "        source = torch.tensor([self.keyed_vecs.get_index(word) for word in doc])      \n",
    "        \n",
    "        target = [self.keyed_vecs.get_index(word, default=0) for word in doc]\n",
    "        if self.reverse_target:\n",
    "            target = target[::-1]\n",
    "        target = torch.tensor(target)\n",
    "\n",
    "        return source, target"
   ]
  },
  {
   "attachments": {},
   "cell_type": "markdown",
   "metadata": {},
   "source": [
    "### Seq2Seq Model"
   ]
  },
  {
   "attachments": {},
   "cell_type": "markdown",
   "metadata": {},
   "source": [
    "#### Encoder"
   ]
  },
  {
   "attachments": {},
   "cell_type": "markdown",
   "metadata": {},
   "source": [
    "**TODO**: fill in the `encode` method"
   ]
  },
  {
   "cell_type": "code",
   "execution_count": 71,
   "metadata": {},
   "outputs": [],
   "source": [
    "class Encoder(nn.Module):\n",
    "    def __init__(\n",
    "        self, \n",
    "        n_vocabsize:int, n_embedding:int, n_hidden:int, n_layers:int, \n",
    "        dropout:Optional[float]=0.1, pretrained:Optional[np.ndarray]=None,\n",
    "    ):\n",
    "        super(Encoder, self).__init__()\n",
    "                \n",
    "        self.n_vocabsize = n_vocabsize\n",
    "        self.n_embedding = n_embedding\n",
    "        self.n_hidden = n_hidden\n",
    "        self.n_layers = n_layers\n",
    "        self.dropout = dropout\n",
    "\n",
    "        embedding = self.make_embedding_layer(n_vocabsize, n_embedding, pretrained)\n",
    "        self.embedding = embedding\n",
    "\n",
    "        # NOTE: depending on your dataset you may have to change batch_first\n",
    "        self.lstm = nn.LSTM(n_embedding, n_hidden, n_layers, dropout=dropout, batch_first=True)\n",
    "        self.dropout = nn.Dropout(dropout)\n",
    "\n",
    "    def make_embedding_layer(\n",
    "        self, \n",
    "        n_vocabsize:int, \n",
    "        n_embedding:int,\n",
    "        pretrained:Optional[np.ndarray]=None,\n",
    "    ):\n",
    "        if pretrained is not None:\n",
    "            pretrained = np.array(pretrained)\n",
    "            n_vocabsize, n_embedding = pretrained.shape\n",
    "            \n",
    "            self.n_vocabsize = n_vocabsize\n",
    "            self.n_embedding = n_embedding\n",
    "\n",
    "            pretrained = torch.FloatTensor(pretrained) \n",
    "            embedding = nn.Embedding.from_pretrained(pretrained)\n",
    "\n",
    "        else:\n",
    "            embedding = nn.Embedding(n_vocabsize, n_embedding)\n",
    "\n",
    "        return embedding\n",
    "    \n",
    "\n",
    "    def encode(self, x):\n",
    "       # TODO: fill this in\n",
    "       embedding = self.embedding(x)\n",
    "       embedding = self.dropout(embedding) #TODO: is this the right place for dropout?\n",
    "\n",
    "       _, (hidden, cell) = self.lstm(embedding) #TODO save output?\n",
    "       return hidden, cell\n",
    "    \n",
    "    def forward(self, x):\n",
    "        return self.encode(x)"
   ]
  },
  {
   "attachments": {},
   "cell_type": "markdown",
   "metadata": {},
   "source": [
    "#### Decoder"
   ]
  },
  {
   "attachments": {},
   "cell_type": "markdown",
   "metadata": {},
   "source": [
    "**TODO**: fill in the `decode` method"
   ]
  },
  {
   "cell_type": "code",
   "execution_count": 72,
   "metadata": {},
   "outputs": [],
   "source": [
    "class Decoder(nn.Module):\n",
    "    def __init__(\n",
    "        self,\n",
    "        n_vocabsize:int, n_embedding:int, n_hidden:int, n_layers:int, \n",
    "        dropout:Optional[float]=0.1,\n",
    "    ):\n",
    "        super(Decoder, self).__init__()\n",
    "        self.n_vocabsize = n_vocabsize\n",
    "        self.n_embedding = n_embedding\n",
    "        self.n_hidden = n_hidden\n",
    "        self.n_layers = n_layers\n",
    "        self.dropout = dropout\n",
    "\n",
    "        self.embedding = nn.Embedding(n_vocabsize, n_embedding)\n",
    "        self.lstm = nn.LSTM(n_embedding, n_hidden, n_layers, dropout=dropout, batch_first=True) #TODO batch_first?\n",
    "        \n",
    "        self.fc_out = nn.Linear(n_hidden, n_vocabsize)\n",
    "        self.dropout = nn.Dropout(dropout)\n",
    "\n",
    "    def decode(self, x, hidden, cell):\n",
    "        x = x.unsqueeze(1)\n",
    "        embedded = self.embedding(x)\n",
    "\n",
    "        output, (hidden, cell) = self.lstm(embedded, (hidden, cell))\n",
    "\n",
    "        prediction = self.fc_out(output.squeeze(1))\n",
    "        prediction = self.dropout(prediction) #TODO: is this the right place for dropout?\n",
    "\n",
    "        return prediction, hidden, cell\n",
    "        \n",
    "\n",
    "    \n",
    "    def forward(self, x, hidden, cell):\n",
    "        return self.decode(x, hidden, cell)\n",
    "    "
   ]
  },
  {
   "attachments": {},
   "cell_type": "markdown",
   "metadata": {},
   "source": [
    "#### Seq2Seq LightningModule"
   ]
  },
  {
   "attachments": {},
   "cell_type": "markdown",
   "metadata": {},
   "source": [
    "**TODO**: fill in the `do_seq2seq` method and define the `criterion`"
   ]
  },
  {
   "cell_type": "code",
   "execution_count": 73,
   "metadata": {},
   "outputs": [],
   "source": [
    "class Seq2Seq(pl.LightningModule):    \n",
    "    def __init__(\n",
    "        self, \n",
    "        word_2_vec,\n",
    "        train_loader,\n",
    "        n_vocabsize:int=0, \n",
    "        n_hidden:int = 2,\n",
    "        n_layers:int = 2,\n",
    "        dropout:float = 0.2,\n",
    "        teacher_forcing_ratio:float=0.5,\n",
    "        learning_rate:float=0.01,\n",
    "    ):\n",
    "                \n",
    "        super(Seq2Seq, self).__init__()\n",
    "\n",
    "        self.w2v = word_2_vec\n",
    "        self.train_loader = train_loader\n",
    "\n",
    "        n_embedding = word_2_vec.vector_size\n",
    "        n_vocabsize, n_embedding = np.array(word_2_vec.wv).shape\n",
    "\n",
    "        self.n_vocabsize = n_vocabsize\n",
    "        self.n_embedding = n_embedding\n",
    "        self.n_hidden = n_hidden\n",
    "        self.n_layers = n_layers\n",
    "        self.n_output = n_vocabsize\n",
    "\n",
    "        self.teacher_forcing_ratio = teacher_forcing_ratio\n",
    "        self.learning_rate = learning_rate\n",
    "        \n",
    "        self.encoder = Encoder(\n",
    "            n_vocabsize, n_embedding, n_hidden, n_layers, \n",
    "            dropout, pretrained=np.array(word_2_vec.wv)\n",
    "        )\n",
    "        self.decoder = Decoder(\n",
    "            n_vocabsize, n_embedding, n_hidden, n_layers, dropout,\n",
    "        )\n",
    "\n",
    "        self.criterion = torch.nn.CrossEntropyLoss() #TODO: is this the right loss function?\n",
    "\n",
    "    def train_dataloader(self):\n",
    "        return self.train_loader\n",
    "\n",
    "    def configure_optimizers(self):\n",
    "        optimizer = torch.optim.AdamW(self.parameters(), lr=self.learning_rate, weight_decay=1e-5)\n",
    "        scheduler = optim.lr_scheduler.StepLR(optimizer, 100, gamma=0.99)\n",
    "        return [optimizer], [scheduler]\n",
    "    \n",
    "    def encode(self, word):\n",
    "        index = self.w2v.wv.get_index(word)\n",
    "        return torch.tensor(index)\n",
    "    \n",
    "    def do_seq2seq(self, source, target):\n",
    "        # TODO: fill this in\n",
    "        batch_size = source.shape[0]\n",
    "        target_len = target.shape[1] #TODO 1 or 0?\n",
    "        target_vocab_size = self.n_vocabsize\n",
    "\n",
    "        outputs = torch.zeros(target_len, batch_size, target_vocab_size).to(self.device)\n",
    "\n",
    "        hidden, cell = self.encoder(source)\n",
    "\n",
    "        x = target[0]\n",
    "\n",
    "        for t in range(1, target_len):\n",
    "            output, hidden, cell = self.decoder(x, hidden, cell)\n",
    "\n",
    "            outputs[t] = output\n",
    "\n",
    "            teacher_force = random.random() < self.teacher_forcing_ratio\n",
    "\n",
    "            top1 = output.argmax(1)\n",
    "\n",
    "            x = target[t] if teacher_force else top1\n",
    "\n",
    "        return outputs\n",
    "\n",
    "    def training_step(self, batch, batch_idx):\n",
    "        x, y = batch\n",
    "        source = x\n",
    "        target = y\n",
    "\n",
    "        output = self.do_seq2seq(source, target)\n",
    "\n",
    "        # NOTE: this may not be needed depending on your\n",
    "        output_dim = output.shape[-1]        \n",
    "        output = output.view(-1, output_dim)\n",
    "        target = target.view(-1)\n",
    "\n",
    "\n",
    "        loss = self.criterion(output, target)\n",
    "\n",
    "        result = {'loss': loss}\n",
    "        self.log('loss', loss)\n",
    "        return result"
   ]
  },
  {
   "cell_type": "code",
   "execution_count": 74,
   "metadata": {},
   "outputs": [],
   "source": [
    "import torch.nn.functional as F\n",
    "\n",
    "class Seq2Seq(pl.LightningModule):    \n",
    "    def __init__(\n",
    "        self, \n",
    "        word_2_vec,\n",
    "        train_loader,\n",
    "        n_vocabsize:int=0, \n",
    "        n_hidden:int = 2,\n",
    "        n_layers:int = 2,\n",
    "        dropout:float = 0.2,\n",
    "        teacher_forcing_ratio:float=0.5,\n",
    "        learning_rate:float=0.01,\n",
    "    ):\n",
    "                \n",
    "        super(Seq2Seq, self).__init__()\n",
    "\n",
    "        self.w2v = word_2_vec\n",
    "        self.train_loader = train_loader\n",
    "\n",
    "        n_embedding = word_2_vec.vector_size\n",
    "        n_vocabsize, n_embedding = word_2_vec.wv.vectors.shape\n",
    "        #n_vocabsize, n_embedding = word_2_vec.shape\n",
    "\n",
    "        self.n_vocabsize = n_vocabsize\n",
    "        self.n_embedding = n_embedding\n",
    "        self.n_hidden = n_hidden\n",
    "        self.n_layers = n_layers\n",
    "        self.n_output = n_vocabsize\n",
    "\n",
    "        self.teacher_forcing_ratio = teacher_forcing_ratio\n",
    "        self.learning_rate = learning_rate\n",
    "        \n",
    "        self.encoder = Encoder(\n",
    "            n_vocabsize, n_embedding, n_hidden, n_layers, \n",
    "            dropout, pretrained=word_2_vec.wv.vectors  # <-- Pass 'vectors' attribute\n",
    "        )\n",
    "        \n",
    "        #self.encoder = Encoder(\n",
    "        #    n_vocabsize, n_embedding, n_hidden, n_layers, \n",
    "        #    dropout, pretrained=np.array(word_2_vec.wv))\n",
    "        \n",
    "        self.decoder = Decoder(\n",
    "            n_vocabsize, n_embedding, n_hidden, n_layers, dropout,\n",
    "        )\n",
    "\n",
    "        self.criterion = torch.nn.CrossEntropyLoss()\n",
    "\n",
    "    def train_dataloader(self):\n",
    "        return self.train_loader\n",
    "\n",
    "    def configure_optimizers(self):\n",
    "        optimizer = torch.optim.AdamW(self.parameters(), lr=self.learning_rate, weight_decay=1e-5)\n",
    "        scheduler = optim.lr_scheduler.StepLR(optimizer, 100, gamma=0.99)\n",
    "        return [optimizer], [scheduler]\n",
    "    \n",
    "    def encode(self, word):\n",
    "        index = self.w2v.wv.get_index(word)\n",
    "        return torch.tensor(index)\n",
    "    \n",
    "    \n",
    "    def do_seq2seq(self, source, target):\n",
    "        batch_size = source.shape[0]\n",
    "        trg_len = target.shape[1]\n",
    "        trg_vocab_size = self.n_output\n",
    "\n",
    "        outputs = torch.zeros(trg_len, batch_size, trg_vocab_size).to(self.device)\n",
    "\n",
    "        hidden, cell = self.encoder(source)\n",
    "\n",
    "        input = target[:, 0]\n",
    "\n",
    "        for t in range(1, trg_len):\n",
    "            #output, hidden = self.decoder(input, hidden, encoder_outputs)\n",
    "            #output, (hidden, cell) = self.decoder(input, hidden, cell)\n",
    "            output, hidden, cell = self.decoder(input, hidden, cell)\n",
    "            outputs[t] = output\n",
    "            teacher_force = random.random() < self.teacher_forcing_ratio\n",
    "            top1 = output.argmax(1)\n",
    "            input = target[:, t] if teacher_force else top1\n",
    "\n",
    "        return outputs\n",
    "\n",
    "\n",
    "    def training_step(self, batch, batch_idx):\n",
    "        x, y = batch\n",
    "        source = x\n",
    "        target = y\n",
    "\n",
    "        output = self.do_seq2seq(source, target)\n",
    "\n",
    "        output_dim = output.shape[-1]        \n",
    "        output = output.view(-1, output_dim)\n",
    "        target = target.view(-1)\n",
    "\n",
    "        loss = self.criterion(output, target)\n",
    "\n",
    "        result = {'loss': loss}\n",
    "        self.log('loss', loss)\n",
    "        return result\n"
   ]
  },
  {
   "attachments": {},
   "cell_type": "markdown",
   "metadata": {},
   "source": [
    "### Instantiate dataset and dataloader "
   ]
  },
  {
   "cell_type": "code",
   "execution_count": 75,
   "metadata": {},
   "outputs": [],
   "source": [
    "ds = Seq2SeqTextDataset(corpus, w2v.wv)"
   ]
  },
  {
   "cell_type": "code",
   "execution_count": 76,
   "metadata": {},
   "outputs": [],
   "source": [
    "dl = data.DataLoader(ds, batch_size=3, shuffle=True, drop_last=True)"
   ]
  },
  {
   "attachments": {},
   "cell_type": "markdown",
   "metadata": {},
   "source": [
    "### Instantiate model"
   ]
  },
  {
   "cell_type": "code",
   "execution_count": 77,
   "metadata": {},
   "outputs": [
    {
     "data": {
      "text/plain": [
       "Seq2Seq(\n",
       "  (encoder): Encoder(\n",
       "    (embedding): Embedding(253854, 50)\n",
       "    (lstm): LSTM(50, 12, num_layers=4, batch_first=True, dropout=0.5)\n",
       "    (dropout): Dropout(p=0.5, inplace=False)\n",
       "  )\n",
       "  (decoder): Decoder(\n",
       "    (embedding): Embedding(253854, 50)\n",
       "    (lstm): LSTM(50, 12, num_layers=4, batch_first=True, dropout=0.5)\n",
       "    (fc_out): Linear(in_features=12, out_features=253854, bias=True)\n",
       "    (dropout): Dropout(p=0.5, inplace=False)\n",
       "  )\n",
       "  (criterion): CrossEntropyLoss()\n",
       ")"
      ]
     },
     "execution_count": 77,
     "metadata": {},
     "output_type": "execute_result"
    }
   ],
   "source": [
    "s2s = Seq2Seq(\n",
    "    w2v, dl,\n",
    "    n_hidden=12, n_layers=4, dropout=0.5, learning_rate = 0.01\n",
    ").to(DEVICE)\n",
    "s2s.encoder.to(DEVICE)\n",
    "s2s.decoder.to(DEVICE)\n",
    "s2s"
   ]
  },
  {
   "attachments": {},
   "cell_type": "markdown",
   "metadata": {},
   "source": [
    "### Define trainer"
   ]
  },
  {
   "cell_type": "code",
   "execution_count": 78,
   "metadata": {},
   "outputs": [
    {
     "name": "stderr",
     "output_type": "stream",
     "text": [
      "GPU available: False, used: False\n",
      "TPU available: False, using: 0 TPU cores\n",
      "IPU available: False, using: 0 IPUs\n",
      "HPU available: False, using: 0 HPUs\n"
     ]
    }
   ],
   "source": [
    "trainer = pl.Trainer(\n",
    "    max_epochs=4,\n",
    "    \n",
    "    # NOTE: gradient clipping can help prevent exploding gradients\n",
    "    gradient_clip_val=100,\n",
    "    gradient_clip_algorithm='value',    \n",
    "    log_every_n_steps=5,\n",
    "    \n",
    "    # NOTE: this should match your device i.e. if you set cuda above, this should be cuda. \n",
    "    # Otherwise it should be cpu. \n",
    "    accelerator=DEVICE,    \n",
    "    \n",
    "    # NOTE: you can set the maximum time you want to train your model\n",
    "    max_time={'minutes': 5},    \n",
    "\n",
    "    # NOTE: setting this to true will save your model every so often\n",
    "    enable_checkpointing=False,\n",
    "    accumulate_grad_batches=2\n",
    ")"
   ]
  },
  {
   "attachments": {},
   "cell_type": "markdown",
   "metadata": {},
   "source": [
    "### Train model"
   ]
  },
  {
   "attachments": {},
   "cell_type": "markdown",
   "metadata": {},
   "source": [
    "**TODO** train your model"
   ]
  },
  {
   "cell_type": "code",
   "execution_count": 79,
   "metadata": {},
   "outputs": [
    {
     "name": "stderr",
     "output_type": "stream",
     "text": [
      "\n",
      "  | Name      | Type             | Params\n",
      "-----------------------------------------------\n",
      "0 | encoder   | Encoder          | 12.7 M\n",
      "1 | decoder   | Decoder          | 16.0 M\n",
      "2 | criterion | CrossEntropyLoss | 0     \n",
      "-----------------------------------------------\n",
      "16.0 M    Trainable params\n",
      "12.7 M    Non-trainable params\n",
      "28.7 M    Total params\n",
      "114.797   Total estimated model params size (MB)\n",
      "/Users/default/miniconda3/envs/dl_310_2/lib/python3.10/site-packages/pytorch_lightning/trainer/connectors/data_connector.py:430: PossibleUserWarning: The dataloader, train_dataloader, does not have many workers which may be a bottleneck. Consider increasing the value of the `num_workers` argument` (try 8 which is the number of cpus on this machine) in the `DataLoader` init to improve performance.\n",
      "  rank_zero_warn(\n"
     ]
    },
    {
     "name": "stdout",
     "output_type": "stream",
     "text": [
      "Epoch 0: 100%|██████████| 567/567 [02:03<00:00,  4.59it/s, v_num=11]"
     ]
    },
    {
     "name": "stderr",
     "output_type": "stream",
     "text": [
      "`Trainer.fit` stopped: `max_epochs=1` reached.\n"
     ]
    },
    {
     "name": "stdout",
     "output_type": "stream",
     "text": [
      "Epoch 0: 100%|██████████| 567/567 [02:03<00:00,  4.59it/s, v_num=11]\n"
     ]
    }
   ],
   "source": [
    "trainer.fit(s2s, dl)"
   ]
  },
  {
   "attachments": {},
   "cell_type": "markdown",
   "metadata": {},
   "source": [
    "**TODO**: Train your network also to reconstruct sentences with some words masked. How well does this training perform? Report accuracy at convergence."
   ]
  },
  {
   "attachments": {},
   "cell_type": "markdown",
   "metadata": {},
   "source": [
    "### Evaluation"
   ]
  },
  {
   "cell_type": "code",
   "execution_count": 82,
   "metadata": {},
   "outputs": [],
   "source": [
    "for source, target in dl:\n",
    "    break"
   ]
  },
  {
   "cell_type": "code",
   "execution_count": 83,
   "metadata": {},
   "outputs": [
    {
     "data": {
      "text/plain": [
       "torch.Size([3, 253854])"
      ]
     },
     "execution_count": 83,
     "metadata": {},
     "output_type": "execute_result"
    }
   ],
   "source": [
    "res = s2s.do_seq2seq(\n",
    "    source[0, :].unsqueeze(0),\n",
    "    target[0, :].unsqueeze(0)\n",
    ")\n",
    "res = res.squeeze(1)\n",
    "res.shape"
   ]
  },
  {
   "cell_type": "code",
   "execution_count": 84,
   "metadata": {},
   "outputs": [
    {
     "data": {
      "text/plain": [
       "['the', 'held', 'seven']"
      ]
     },
     "execution_count": 84,
     "metadata": {},
     "output_type": "execute_result"
    }
   ],
   "source": [
    "[w2v.wv.index_to_key[idx] for idx in res.argmax(1)]"
   ]
  },
  {
   "attachments": {},
   "cell_type": "markdown",
   "metadata": {},
   "source": [
    "**TODO**: Put in a sentence from the corpus and write its reconstruction. Is the reconstruction perfect?"
   ]
  },
  {
   "cell_type": "code",
   "execution_count": 85,
   "metadata": {},
   "outputs": [],
   "source": [
    "#example_sentence = 'the seven kings'"
   ]
  },
  {
   "cell_type": "code",
   "execution_count": 86,
   "metadata": {},
   "outputs": [],
   "source": [
    "example_sentence = all_words_from_corpus[1:20]"
   ]
  },
  {
   "cell_type": "code",
   "execution_count": 87,
   "metadata": {},
   "outputs": [
    {
     "data": {
      "text/plain": [
       "tensor([[ 3082,    11,     5,   194,     1,  3133,    45,    58,   155,   127,\n",
       "           741,   476, 10578,   133,     0, 27455,     1,     0,   102]])"
      ]
     },
     "execution_count": 87,
     "metadata": {},
     "output_type": "execute_result"
    }
   ],
   "source": [
    "tokens = example_sentence\n",
    "tokens = [w2v.wv.get_index(token, default=0) for token in tokens]\n",
    "\n",
    "tokens = torch.tensor(tokens).unsqueeze(0)\n",
    "tokens"
   ]
  },
  {
   "cell_type": "code",
   "execution_count": 88,
   "metadata": {},
   "outputs": [
    {
     "data": {
      "text/plain": [
       "tensor([[ 3082,    11,     5,   194,     1,  3133,    45,    58,   155,   127,\n",
       "           741,   476, 10578,   133,     0, 27455,     1,     0,   102]])"
      ]
     },
     "execution_count": 88,
     "metadata": {},
     "output_type": "execute_result"
    }
   ],
   "source": [
    "# Set the target tensor to be the same as the  tensor\n",
    "target_tensor = tokens.clone()\n",
    "target_tensor"
   ]
  },
  {
   "cell_type": "code",
   "execution_count": 89,
   "metadata": {},
   "outputs": [
    {
     "data": {
      "text/plain": [
       "array([     0,   5626,  76185,    150,   3782,     22,    126,     22,\n",
       "        76185,    486,    938,    359,     22,   3429,     22,    486,\n",
       "          247, 225309,     22])"
      ]
     },
     "execution_count": 89,
     "metadata": {},
     "output_type": "execute_result"
    }
   ],
   "source": [
    "random.seed(1)\n",
    "# Generate the output tensor using the seq2seq model\n",
    "output_tensor = s2s.do_seq2seq(tokens, target_tensor).argmax(2)\n",
    "output_tensor = output_tensor.squeeze(1).numpy()\n",
    "output_tensor"
   ]
  },
  {
   "cell_type": "code",
   "execution_count": 90,
   "metadata": {},
   "outputs": [
    {
     "data": {
      "text/plain": [
       "['the',\n",
       " 'peaceful',\n",
       " 'miklos',\n",
       " 'french',\n",
       " 'obsolete',\n",
       " 'seven',\n",
       " 'university',\n",
       " 'seven',\n",
       " 'miklos',\n",
       " 'middle',\n",
       " 'unit',\n",
       " 'held',\n",
       " 'seven',\n",
       " 'watch',\n",
       " 'seven',\n",
       " 'middle',\n",
       " 'word',\n",
       " 'acetabularia',\n",
       " 'seven']"
      ]
     },
     "execution_count": 90,
     "metadata": {},
     "output_type": "execute_result"
    }
   ],
   "source": [
    "# Convert the output tensor back to words\n",
    "#ds.keyed_vecs.index_to_key[int(22)]\n",
    "reconstructed_sentence = [ds.keyed_vecs.index_to_key[int(idx)] for idx in output_tensor]\n",
    "reconstructed_sentence"
   ]
  },
  {
   "cell_type": "code",
   "execution_count": 91,
   "metadata": {},
   "outputs": [
    {
     "name": "stdout",
     "output_type": "stream",
     "text": [
      "Original sentence:\n",
      "originated as a term of abuse first used against early working class radicals including the diggers of the english\n",
      "\n",
      "Reconstructed sentence:\n",
      "the peaceful miklos french obsolete seven university seven miklos middle unit held seven watch seven middle word acetabularia seven\n"
     ]
    }
   ],
   "source": [
    "print(\"Original sentence:\")\n",
    "print(\" \".join(example_sentence))\n",
    "\n",
    "print(\"\\nReconstructed sentence:\")\n",
    "print(\" \".join(reconstructed_sentence))"
   ]
  },
  {
   "attachments": {},
   "cell_type": "markdown",
   "metadata": {},
   "source": [
    "**TODO**: Now mask one of the words in the sentence with xxxx and test if it fills the word back."
   ]
  },
  {
   "cell_type": "code",
   "execution_count": 92,
   "metadata": {},
   "outputs": [
    {
     "data": {
      "text/plain": [
       "array(['originated', 'as', 'a', 'term', 'of', 'abuse', 'first', 'used',\n",
       "       'against', 'early', 'xxxx', 'class', 'radicals', 'including',\n",
       "       'the', 'diggers', 'of', 'the', 'english'], dtype='<U100')"
      ]
     },
     "execution_count": 92,
     "metadata": {},
     "output_type": "execute_result"
    }
   ],
   "source": [
    "from random import randint\n",
    "\n",
    "masked_sentence = example_sentence.copy()\n",
    "#get the index of the word to be masked\n",
    "masked_index = random.randint(0, len(masked_sentence)-1)\n",
    "#replace the word with the mask token\n",
    "masked_sentence[masked_index] = 'xxxx'\n",
    "masked_sentence"
   ]
  },
  {
   "cell_type": "code",
   "execution_count": 93,
   "metadata": {},
   "outputs": [
    {
     "data": {
      "text/plain": [
       "tensor([[ 3082,    11,     5,   194,     1,  3133,    45,    58,   155,   127,\n",
       "         30522,   476, 10578,   133,     0, 27455,     1,     0,   102]])"
      ]
     },
     "execution_count": 93,
     "metadata": {},
     "output_type": "execute_result"
    }
   ],
   "source": [
    "# Convert the masked sentence to a tensor\n",
    "masked_tokens = [w2v.wv.get_index(token, default=0) for token in masked_sentence]\n",
    "masked_tokens = torch.tensor(masked_tokens).unsqueeze(0)\n",
    "masked_tokens"
   ]
  },
  {
   "cell_type": "code",
   "execution_count": 94,
   "metadata": {},
   "outputs": [
    {
     "data": {
      "text/plain": [
       "tensor([[ 3082,    11,     5,   194,     1,  3133,    45,    58,   155,   127,\n",
       "         30522,   476, 10578,   133,     0, 27455,     1,     0,   102]])"
      ]
     },
     "execution_count": 94,
     "metadata": {},
     "output_type": "execute_result"
    }
   ],
   "source": [
    "# Set the target tensor to be the same as the  tensor\n",
    "target_tensor = masked_tokens.clone()\n",
    "target_tensor"
   ]
  },
  {
   "cell_type": "code",
   "execution_count": 95,
   "metadata": {},
   "outputs": [
    {
     "data": {
      "text/plain": [
       "array([    0,    85,   801,  2347,   247,     7,   298,    22,    22,\n",
       "        4334,    22,   486,     7,     7,  4334,    22,    22, 12578,\n",
       "        4334])"
      ]
     },
     "execution_count": 95,
     "metadata": {},
     "output_type": "execute_result"
    }
   ],
   "source": [
    "#reconstruct the masked sentence\n",
    "output_tensor = s2s.do_seq2seq(masked_tokens, target_tensor).argmax(2)\n",
    "output_tensor = output_tensor.squeeze(1).numpy()\n",
    "output_tensor"
   ]
  },
  {
   "cell_type": "code",
   "execution_count": 96,
   "metadata": {},
   "outputs": [
    {
     "data": {
      "text/plain": [
       "['the',\n",
       " 'united',\n",
       " 'leading',\n",
       " 'fleet',\n",
       " 'word',\n",
       " 'zero',\n",
       " 'best',\n",
       " 'seven',\n",
       " 'seven',\n",
       " 'explosion',\n",
       " 'seven',\n",
       " 'middle',\n",
       " 'zero',\n",
       " 'zero',\n",
       " 'explosion',\n",
       " 'seven',\n",
       " 'seven',\n",
       " 'slit',\n",
       " 'explosion']"
      ]
     },
     "execution_count": 96,
     "metadata": {},
     "output_type": "execute_result"
    }
   ],
   "source": [
    "# Convert the output tensor back to words\n",
    "reconstructed_sentence = [ds.keyed_vecs.index_to_key[int(idx)] for idx in output_tensor]\n",
    "reconstructed_sentence"
   ]
  },
  {
   "cell_type": "code",
   "execution_count": 97,
   "metadata": {},
   "outputs": [
    {
     "name": "stdout",
     "output_type": "stream",
     "text": [
      "Original sentence:\n",
      "originated as a term of abuse first used against early working class radicals including the diggers of the english\n",
      "Masked sentence:\n",
      "originated as a term of abuse first used against early xxxx class radicals including the diggers of the english\n",
      "\n",
      "Reconstructed sentence:\n",
      "the united leading fleet word zero best seven seven explosion seven middle zero zero explosion seven seven slit explosion\n"
     ]
    }
   ],
   "source": [
    "print(\"Original sentence:\")\n",
    "print(\" \".join(example_sentence))\n",
    "\n",
    "print(\"Masked sentence:\")\n",
    "print(\" \".join(masked_sentence))\n",
    "\n",
    "print(\"\\nReconstructed sentence:\")\n",
    "print(\" \".join(reconstructed_sentence))"
   ]
  },
  {
   "attachments": {},
   "cell_type": "markdown",
   "metadata": {},
   "source": [
    "**TODO**: Finally, start a sentence from the corpus by giving the first 3 words, with the rest of the words masked, see if it completes this sentence."
   ]
  },
  {
   "cell_type": "code",
   "execution_count": 98,
   "metadata": {},
   "outputs": [
    {
     "data": {
      "text/plain": [
       "array(['originated', 'as', 'a', 'xxxx', 'xxxx', 'xxxx', 'xxxx', 'xxxx',\n",
       "       'xxxx', 'xxxx', 'xxxx', 'xxxx', 'xxxx', 'xxxx', 'xxxx', 'xxxx',\n",
       "       'xxxx', 'xxxx', 'xxxx'], dtype='<U100')"
      ]
     },
     "execution_count": 98,
     "metadata": {},
     "output_type": "execute_result"
    }
   ],
   "source": [
    "masked_sentence = example_sentence.copy()\n",
    "\n",
    "#replace all words but the first three with the mask token\n",
    "for i in range(3, len(masked_sentence)):\n",
    "    masked_sentence[i] = 'xxxx'\n",
    "\n",
    "masked_sentence"
   ]
  },
  {
   "cell_type": "code",
   "execution_count": 99,
   "metadata": {},
   "outputs": [
    {
     "data": {
      "text/plain": [
       "tensor([[ 3082,    11,     5, 30522, 30522, 30522, 30522, 30522, 30522, 30522,\n",
       "         30522, 30522, 30522, 30522, 30522, 30522, 30522, 30522, 30522]])"
      ]
     },
     "execution_count": 99,
     "metadata": {},
     "output_type": "execute_result"
    }
   ],
   "source": [
    "# Convert the masked sentence to a tensor\n",
    "masked_tokens = [w2v.wv.get_index(token, default=0) for token in masked_sentence]\n",
    "masked_tokens = torch.tensor(masked_tokens).unsqueeze(0)\n",
    "masked_tokens"
   ]
  },
  {
   "cell_type": "code",
   "execution_count": 100,
   "metadata": {},
   "outputs": [
    {
     "data": {
      "text/plain": [
       "tensor([[ 3082,    11,     5, 30522, 30522, 30522, 30522, 30522, 30522, 30522,\n",
       "         30522, 30522, 30522, 30522, 30522, 30522, 30522, 30522, 30522]])"
      ]
     },
     "execution_count": 100,
     "metadata": {},
     "output_type": "execute_result"
    }
   ],
   "source": [
    "# Set the target tensor to be the same as the  tensor\n",
    "target_tensor = masked_tokens.clone()\n",
    "target_tensor"
   ]
  },
  {
   "cell_type": "code",
   "execution_count": 101,
   "metadata": {},
   "outputs": [
    {
     "data": {
      "text/plain": [
       "array([    0,   801, 76185,   486,  1342,    22,   359,    22,    22,\n",
       "        3782,   938,    22,    22,    22,  4334,    22,   486,   176,\n",
       "          22])"
      ]
     },
     "execution_count": 101,
     "metadata": {},
     "output_type": "execute_result"
    }
   ],
   "source": [
    "#reconstruct the masked sentence\n",
    "output_tensor = s2s.do_seq2seq(masked_tokens, target_tensor).argmax(2)\n",
    "output_tensor = output_tensor.squeeze(1).numpy()\n",
    "output_tensor"
   ]
  },
  {
   "cell_type": "code",
   "execution_count": 102,
   "metadata": {},
   "outputs": [
    {
     "data": {
      "text/plain": [
       "['the',\n",
       " 'leading',\n",
       " 'miklos',\n",
       " 'middle',\n",
       " 'format',\n",
       " 'seven',\n",
       " 'held',\n",
       " 'seven',\n",
       " 'seven',\n",
       " 'obsolete',\n",
       " 'unit',\n",
       " 'seven',\n",
       " 'seven',\n",
       " 'seven',\n",
       " 'explosion',\n",
       " 'seven',\n",
       " 'middle',\n",
       " 'common',\n",
       " 'seven']"
      ]
     },
     "execution_count": 102,
     "metadata": {},
     "output_type": "execute_result"
    }
   ],
   "source": [
    "# Convert the output tensor back to words\n",
    "reconstructed_sentence = [ds.keyed_vecs.index_to_key[int(idx)] for idx in output_tensor]\n",
    "reconstructed_sentence"
   ]
  },
  {
   "cell_type": "code",
   "execution_count": 103,
   "metadata": {},
   "outputs": [
    {
     "name": "stdout",
     "output_type": "stream",
     "text": [
      "Original sentence:\n",
      "originated as a term of abuse first used against early working class radicals including the diggers of the english\n",
      "Masked sentence:\n",
      "originated as a xxxx xxxx xxxx xxxx xxxx xxxx xxxx xxxx xxxx xxxx xxxx xxxx xxxx xxxx xxxx xxxx\n",
      "\n",
      "Reconstructed sentence:\n",
      "the leading miklos middle format seven held seven seven obsolete unit seven seven seven explosion seven middle common seven\n"
     ]
    }
   ],
   "source": [
    "print(\"Original sentence:\")\n",
    "print(\" \".join(example_sentence))\n",
    "\n",
    "print(\"Masked sentence:\")\n",
    "print(\" \".join(masked_sentence))\n",
    "\n",
    "print(\"\\nReconstructed sentence:\")\n",
    "print(\" \".join(reconstructed_sentence))"
   ]
  },
  {
   "attachments": {},
   "cell_type": "markdown",
   "metadata": {},
   "source": [
    "## Exploration"
   ]
  },
  {
   "attachments": {},
   "cell_type": "markdown",
   "metadata": {},
   "source": [
    "You can also use `gensim` to load other models aside from `Word2Vec` such as `glove` "
   ]
  },
  {
   "cell_type": "code",
   "execution_count": 104,
   "metadata": {},
   "outputs": [],
   "source": [
    "#glove_vectors = gensim_api.load('glove-twitter-25')\n",
    "#glove_vectors.most_similar('twitter')"
   ]
  },
  {
   "attachments": {},
   "cell_type": "markdown",
   "metadata": {},
   "source": [
    "## Citations"
   ]
  },
  {
   "attachments": {},
   "cell_type": "markdown",
   "metadata": {},
   "source": [
    "This notebook adapts parts of [@Ben Trevett](https://github.com/bentrevett)'s PyTorch Seq2Seq [notebook](https://github.com/bentrevett/pytorch-seq2seq/blob/master/1%20-%20Sequence%20to%20Sequence%20Learning%20with%20Neural%20Networks.ipynb). Additionally we utilize parts of both PyTorch's [documentation](https://pytorch.org/docs/stable/generated/torch.nn.LSTM.html) as well as [Gensim](https://radimrehurek.com/gensim/intro.html)'s and [Machine Learning Plus](https://www.machinelearningplus.com/)'s [tutorial](https://www.machinelearningplus.com/nlp/gensim-tutorial/)"
   ]
  },
  {
   "cell_type": "markdown",
   "metadata": {},
   "source": [
    "## Supplementary materials"
   ]
  },
  {
   "cell_type": "markdown",
   "metadata": {},
   "source": [
    "For those getting started with [`gensim`](https://radimrehurek.com/gensim/intro.html) they may find [Gaurav Padawe](https://medium.com/@grvpdw92) [tutorial](https://medium.com/analytics-vidhya/word2vector-using-gensim-e055d35f1cb4) useful. Of course there is also the official `Word2Vec` `gensim` [tutorial](https://radimrehurek.com/gensim/models/word2vec.html)\n",
    "\n",
    "For support with [Pylightning](https://lightning.ai/docs/pytorch/stable/) please refer to these documentation pages:\n",
    "- `Trainer` [documentation](https://lightning.ai/docs/pytorch/stable/common/trainer.html)\n",
    "- `LightningModule` [documentation](https://lightning.ai/docs/pytorch/stable/common/lightning_module.html)\n"
   ]
  }
 ],
 "metadata": {
  "kernelspec": {
   "display_name": "lstm",
   "language": "python",
   "name": "python3"
  },
  "language_info": {
   "codemirror_mode": {
    "name": "ipython",
    "version": 3
   },
   "file_extension": ".py",
   "mimetype": "text/x-python",
   "name": "python",
   "nbconvert_exporter": "python",
   "pygments_lexer": "ipython3",
   "version": "3.10.10"
  },
  "orig_nbformat": 4
 },
 "nbformat": 4,
 "nbformat_minor": 2
}
